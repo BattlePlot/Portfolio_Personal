{
  "cells": [
    {
      "cell_type": "markdown",
      "metadata": {
        "id": "m81ebV8onoha"
      },
      "source": [
        "## Coding Exercise #0306"
      ]
    },
    {
      "cell_type": "markdown",
      "metadata": {
        "id": "qKgKEp_Gnohe"
      },
      "source": [
        "### 1. Interval Estimation of the Proportion:"
      ]
    },
    {
      "cell_type": "code",
      "execution_count": 36,
      "metadata": {
        "id": "q8jUSVtXnohf"
      },
      "outputs": [],
      "source": [
        "import numpy as np\n",
        "import scipy.stats as st"
      ]
    },
    {
      "cell_type": "markdown",
      "metadata": {
        "id": "gFJmkp9fnohg"
      },
      "source": [
        "1). There are two candidates for the election: A and B.\n",
        "The candidate A wants to survey his approval rating.\n",
        "Out of 100 suerveyed, 55 answered positively.\n",
        "Can A be sure of this election?\n",
        "- Assume that A gets elected with 50% or more. \n",
        "- Use 95% confidence interval."
      ]
    },
    {
      "cell_type": "code",
      "execution_count": null,
      "metadata": {
        "id": "GI_OY9Zhnohh"
      },
      "outputs": [],
      "source": [
        "# 95% Confidence Interval.\n",
        "# We apply the expression for the standard error (SE) from the lecture.\n",
        "# W ignore additional corrections. \n",
        "n_yes = 55\n",
        "n_total = 100\n",
        "p_mean = n_yes/n_total\n",
        "SE = np.sqrt(p_mean*(1-p_mean)/n_total)\n",
        "st.norm.interval(0.95, loc = p_mean, scale=SE)"
      ]
    },
    {
      "cell_type": "markdown",
      "metadata": {
        "id": "ZuajKrxZnohh"
      },
      "source": [
        "*=> The confidence interval has the lower blound below 50%. So A cannot be sure with the confidence level of 95%.*"
      ]
    },
    {
      "cell_type": "markdown",
      "metadata": {
        "id": "lNNwOO1jnohi"
      },
      "source": [
        "2). Out of 1000 suerveyed, 550 answered positively. Can A be sure of this election?\n",
        "- Assume that A gets elected with 50% or more. \n",
        "- Use 95% confidence interval."
      ]
    },
    {
      "cell_type": "code",
      "execution_count": null,
      "metadata": {
        "id": "yWMiuClvnohi"
      },
      "outputs": [],
      "source": [
        "# 95% Confidence Interval.\n",
        "# We apply the expression for the standard error (SE) from the lecture.\n",
        "# W ignore additional corrections. \n",
        "n_yes = 550\n",
        "n_total = 1000\n",
        "p_mean = n_yes/n_total\n",
        "SE = np.sqrt(p_mean*(1-p_mean)/n_total)\n",
        "st.norm.interval(0.95, loc = p_mean, scale=SE)"
      ]
    },
    {
      "cell_type": "markdown",
      "metadata": {
        "id": "HU1739Ounohj"
      },
      "source": [
        "*=> The confidence interval has the lower bound above 50%. So A can be sure with the confidence level of 95%.*"
      ]
    },
    {
      "cell_type": "code",
      "execution_count": 68,
      "metadata": {
        "id": "1Fn1W5Xdnohk",
        "outputId": "1be56a4b-236c-457f-a18c-83f6772535c4",
        "colab": {
          "base_uri": "https://localhost:8080/"
        }
      },
      "outputs": [
        {
          "output_type": "execute_result",
          "data": {
            "text/plain": [
              "(0.5000030894763234, 0.8362621478859498)"
            ]
          },
          "metadata": {},
          "execution_count": 68
        }
      ],
      "source": [
        "#from sympy import symbols, solve, sqrt\n",
        "#import cmath\n",
        "#x = symbols('x')\n",
        "\n",
        "#sol = solve(x/(x+10)-(1.96/sqrt(x+10))*sqrt(x/(x+10)*(1-x/(x+10)))-0.5)\n",
        "#print(sol)\n",
        "\n",
        "n_yes = 20.1325184784938\n",
        "n_total = n_yes+10\n",
        "p_mean = n_yes/n_total\n",
        "SE = np.sqrt(p_mean*(1-p_mean)/n_total)\n",
        "st.norm.interval(0.95, loc = p_mean, scale=SE)"
      ]
    }
  ],
  "metadata": {
    "kernelspec": {
      "display_name": "Python 3",
      "language": "python",
      "name": "python3"
    },
    "language_info": {
      "codemirror_mode": {
        "name": "ipython",
        "version": 3
      },
      "file_extension": ".py",
      "mimetype": "text/x-python",
      "name": "python",
      "nbconvert_exporter": "python",
      "pygments_lexer": "ipython3",
      "version": "3.7.3"
    },
    "colab": {
      "name": "ex_0306.ipynb",
      "provenance": []
    }
  },
  "nbformat": 4,
  "nbformat_minor": 0
}