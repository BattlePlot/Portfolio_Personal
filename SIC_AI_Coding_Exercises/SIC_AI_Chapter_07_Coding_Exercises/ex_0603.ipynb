{
  "cells": [
    {
      "cell_type": "markdown",
      "metadata": {
        "id": "view-in-github",
        "colab_type": "text"
      },
      "source": [
        "<a href=\"https://colab.research.google.com/github/BattlePlot/Portfolio_Personal/blob/main/SIC_AI_Coding_Exercises/SIC_AI_Chapter_07_Coding_Exercises/ex_0603.ipynb\" target=\"_parent\"><img src=\"https://colab.research.google.com/assets/colab-badge.svg\" alt=\"Open In Colab\"/></a>"
      ]
    },
    {
      "cell_type": "markdown",
      "metadata": {
        "id": "OosMgCVbHw7w"
      },
      "source": [
        "## Coding Exercise #0603"
      ]
    },
    {
      "cell_type": "code",
      "execution_count": 1,
      "metadata": {
        "id": "NW7RGwVKHw7z"
      },
      "outputs": [],
      "source": [
        "import re"
      ]
    },
    {
      "cell_type": "markdown",
      "metadata": {
        "id": "92bPVJ0oHw71"
      },
      "source": [
        "### 1. Regular expressions (groups):"
      ]
    },
    {
      "cell_type": "markdown",
      "metadata": {
        "id": "QrqiI8ykHw71"
      },
      "source": [
        "#### 1.1. Some examples of group:"
      ]
    },
    {
      "cell_type": "code",
      "execution_count": 2,
      "metadata": {
        "id": "ry8JtkcmHw72",
        "outputId": "04e9cf2b-6b72-4a1b-cc70-b5bb97f70fca",
        "colab": {
          "base_uri": "https://localhost:8080/"
        }
      },
      "outputs": [
        {
          "output_type": "stream",
          "name": "stdout",
          "text": [
            "22\n"
          ]
        }
      ],
      "source": [
        "reg_ex = re.compile(\"([0-9]+)\")\n",
        "m = reg_ex.search(\"I am 22 years old. She is 20 years old.\")\n",
        "print(m.group(1))"
      ]
    },
    {
      "cell_type": "code",
      "execution_count": 3,
      "metadata": {
        "id": "JIgJBtmWHw72",
        "outputId": "283b473d-f00b-4bd1-8617-14fd3ef2bfb5",
        "colab": {
          "base_uri": "https://localhost:8080/"
        }
      },
      "outputs": [
        {
          "output_type": "stream",
          "name": "stdout",
          "text": [
            "22\n",
            "20\n"
          ]
        }
      ],
      "source": [
        "reg_ex = re.compile(\"([0-9]+)[^0-9]+([0-9]+)\")\n",
        "m = reg_ex.search(\"I am 22 years old. She is 20 years old.\")\n",
        "print(m.group(1))\n",
        "print(m.group(2))"
      ]
    },
    {
      "cell_type": "code",
      "execution_count": 4,
      "metadata": {
        "id": "scJq99drHw73",
        "outputId": "98b86c56-8ebf-453c-958f-f78eec0b5e35",
        "colab": {
          "base_uri": "https://localhost:8080/"
        }
      },
      "outputs": [
        {
          "output_type": "stream",
          "name": "stdout",
          "text": [
            "John Wheeler\n",
            "010\n",
            "1234\n",
            "5678\n"
          ]
        }
      ],
      "source": [
        "reg_ex = re.compile(\"([^0-9]+)([0-9]+)[^0-9]+([0-9]+)[^0-9]+([0-9]+)\")\n",
        "m = reg_ex.search(\"John Wheeler 010-1234-5678\")\n",
        "print((m.group(1)).strip())\n",
        "print(m.group(2))\n",
        "print(m.group(3))\n",
        "print(m.group(4))"
      ]
    },
    {
      "cell_type": "markdown",
      "metadata": {
        "id": "8LSd0OxnHw74"
      },
      "source": [
        "#### 1.2. Some exaples of group with shorthand expression:\n",
        "\\d   =   [0-9]  <br>\n",
        "\\D    =  [^0-9]  <br>\n",
        "\\w   =   [0-9a-zA-Z_]  <br>\n",
        "\\W    =  [^0-9a-zA-Z_]  <br>"
      ]
    },
    {
      "cell_type": "code",
      "execution_count": 5,
      "metadata": {
        "id": "1dlkEx-5Hw74",
        "outputId": "33429a7d-8842-4614-eac4-bc5bc73705b8",
        "colab": {
          "base_uri": "https://localhost:8080/"
        }
      },
      "outputs": [
        {
          "output_type": "stream",
          "name": "stdout",
          "text": [
            "22\n"
          ]
        }
      ],
      "source": [
        "reg_ex = re.compile(\"(\\d+)\")\n",
        "m = reg_ex.search(\"I am 22 years old. She is 20 years old.\")\n",
        "print(m.group(1))"
      ]
    },
    {
      "cell_type": "code",
      "execution_count": 7,
      "metadata": {
        "id": "cZtj-eLHHw75",
        "outputId": "760167ad-eb16-462f-9b3b-f72fc23591fb",
        "colab": {
          "base_uri": "https://localhost:8080/"
        }
      },
      "outputs": [
        {
          "output_type": "stream",
          "name": "stdout",
          "text": [
            "22\n",
            "20\n"
          ]
        }
      ],
      "source": [
        "reg_ex = re.compile(\"(\\d+)\\D+(\\d+)\")\n",
        "m = reg_ex.search(\"I am 22 years old. She is 20 years old.\")\n",
        "print(m.group(1))\n",
        "print(m.group(2))"
      ]
    },
    {
      "cell_type": "code",
      "execution_count": 8,
      "metadata": {
        "id": "wi8r0HUpHw76",
        "outputId": "8b4c503d-5f42-462e-f1db-35e3a6617a7a",
        "colab": {
          "base_uri": "https://localhost:8080/"
        }
      },
      "outputs": [
        {
          "output_type": "stream",
          "name": "stdout",
          "text": [
            "John Wheeler\n",
            "010\n",
            "1234\n",
            "5678\n"
          ]
        }
      ],
      "source": [
        "reg_ex = re.compile(\"(\\D+)(\\d+)\\D+(\\d+)\\D+(\\d+)\")\n",
        "m = reg_ex.search(\"John Wheeler 010-1234-5678\")\n",
        "print((m.group(1)).strip())\n",
        "print(m.group(2))\n",
        "print(m.group(3))\n",
        "print(m.group(4))"
      ]
    },
    {
      "cell_type": "code",
      "execution_count": 11,
      "metadata": {
        "id": "vx7cTNPhHw76",
        "outputId": "a6249db1-cdc7-4d1e-c4e4-6578b92ddfa8",
        "colab": {
          "base_uri": "https://localhost:8080/"
        }
      },
      "outputs": [
        {
          "output_type": "stream",
          "name": "stdout",
          "text": [
            "John Wheeler 010-****-****\n",
            "John Wheeler 010-****-****\n"
          ]
        }
      ],
      "source": [
        "# Hide the phone number.\n",
        "reg_ex = re.compile(\"(\\D+)(\\d+)\\D+(\\d+)\\D+(\\d+)\")\n",
        "m = reg_ex.search(\"John Wheeler 010-1234-5678\")\n",
        "print((m.group(1)).strip() + \" \" + m.group(2) + \"-****-****\")\n",
        "print(f\"{(m.group(1)).strip()} {m.group(2)}-****-****\")"
      ]
    },
    {
      "cell_type": "code",
      "execution_count": 13,
      "metadata": {
        "id": "uovoQ1lwHw77",
        "outputId": "6cc2e78c-805f-48e8-ea41-d8fef48d3de6",
        "colab": {
          "base_uri": "https://localhost:8080/"
        }
      },
      "outputs": [
        {
          "output_type": "stream",
          "name": "stdout",
          "text": [
            "PHONE : 010-1234-5678\n",
            "PHONE : 010-1234-5678\n"
          ]
        }
      ],
      "source": [
        "# Extract only the phone number.\n",
        "reg_ex = re.compile(\"(\\D+)((\\d+)\\D+(\\d+)\\D+(\\d+))\")\n",
        "m = reg_ex.search(\"John Wheeler 010-1234-5678\")\n",
        "print(\"PHONE : \" + m.group(2))\n",
        "print(f\"PHONE : {m.group(2)}\")"
      ]
    },
    {
      "cell_type": "code",
      "execution_count": null,
      "metadata": {
        "id": "2-GZPozKHw77"
      },
      "outputs": [],
      "source": [
        ""
      ]
    }
  ],
  "metadata": {
    "kernelspec": {
      "display_name": "Python 3",
      "language": "python",
      "name": "python3"
    },
    "language_info": {
      "codemirror_mode": {
        "name": "ipython",
        "version": 3
      },
      "file_extension": ".py",
      "mimetype": "text/x-python",
      "name": "python",
      "nbconvert_exporter": "python",
      "pygments_lexer": "ipython3",
      "version": "3.7.3"
    },
    "colab": {
      "name": "ex_0603.ipynb",
      "provenance": [],
      "include_colab_link": true
    }
  },
  "nbformat": 4,
  "nbformat_minor": 0
}