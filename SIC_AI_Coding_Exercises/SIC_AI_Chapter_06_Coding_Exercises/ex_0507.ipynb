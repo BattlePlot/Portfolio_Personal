{
  "cells": [
    {
      "cell_type": "markdown",
      "metadata": {
        "id": "view-in-github",
        "colab_type": "text"
      },
      "source": [
        "<a href=\"https://colab.research.google.com/github/BattlePlot/Portfolio_Personal/blob/main/SIC_AI_Coding_Exercises/SIC_AI_Chapter_06_Coding_Exercises/ex_0507.ipynb\" target=\"_parent\"><img src=\"https://colab.research.google.com/assets/colab-badge.svg\" alt=\"Open In Colab\"/></a>"
      ]
    },
    {
      "cell_type": "markdown",
      "metadata": {
        "id": "mdi0K65kmjAG"
      },
      "source": [
        "## Coding Exercise #0507"
      ]
    },
    {
      "cell_type": "markdown",
      "metadata": {
        "id": "LAYmdYGDmjAK"
      },
      "source": [
        "### 1. Voting Ensemble:"
      ]
    },
    {
      "cell_type": "code",
      "execution_count": 12,
      "metadata": {
        "id": "5tCJoIasmjAK"
      },
      "outputs": [],
      "source": [
        "import numpy as np\n",
        "import pandas as pd\n",
        "import warnings\n",
        "from sklearn.model_selection import train_test_split\n",
        "from sklearn.tree import DecisionTreeClassifier\n",
        "from sklearn.neighbors import KNeighborsClassifier\n",
        "from sklearn.linear_model import LogisticRegression\n",
        "from sklearn.ensemble import VotingClassifier\n",
        "from sklearn import metrics\n",
        "from sklearn.datasets import load_breast_cancer\n",
        "from sklearn.svm import SVC\n",
        "warnings.filterwarnings(action='ignore')                  # Turn off the warnings."
      ]
    },
    {
      "cell_type": "markdown",
      "metadata": {
        "id": "FKbgLaMYmjAM"
      },
      "source": [
        "#### 1.1. Read in data:"
      ]
    },
    {
      "cell_type": "code",
      "execution_count": 2,
      "metadata": {
        "id": "06ETJGTvmjAN"
      },
      "outputs": [],
      "source": [
        "# Load data.\n",
        "data = load_breast_cancer()"
      ]
    },
    {
      "cell_type": "code",
      "execution_count": 3,
      "metadata": {
        "id": "dwAvcN_MmjAN",
        "outputId": "e2a1d24f-9328-4860-9b8a-32644bf47673",
        "colab": {
          "base_uri": "https://localhost:8080/"
        }
      },
      "outputs": [
        {
          "output_type": "stream",
          "name": "stdout",
          "text": [
            "['mean radius' 'mean texture' 'mean perimeter' 'mean area'\n",
            " 'mean smoothness' 'mean compactness' 'mean concavity'\n",
            " 'mean concave points' 'mean symmetry' 'mean fractal dimension'\n",
            " 'radius error' 'texture error' 'perimeter error' 'area error'\n",
            " 'smoothness error' 'compactness error' 'concavity error'\n",
            " 'concave points error' 'symmetry error' 'fractal dimension error'\n",
            " 'worst radius' 'worst texture' 'worst perimeter' 'worst area'\n",
            " 'worst smoothness' 'worst compactness' 'worst concavity'\n",
            " 'worst concave points' 'worst symmetry' 'worst fractal dimension']\n"
          ]
        }
      ],
      "source": [
        "# Explanatory variables.\n",
        "X = data['data']\n",
        "print(data['feature_names'])"
      ]
    },
    {
      "cell_type": "code",
      "execution_count": 4,
      "metadata": {
        "id": "IOpxa-I8mjAO",
        "outputId": "d5386620-a54a-4f0e-d031-89bb1dc3c0f3",
        "colab": {
          "base_uri": "https://localhost:8080/"
        }
      },
      "outputs": [
        {
          "output_type": "execute_result",
          "data": {
            "text/plain": [
              "(569, 30)"
            ]
          },
          "metadata": {},
          "execution_count": 4
        }
      ],
      "source": [
        "X.shape"
      ]
    },
    {
      "cell_type": "code",
      "execution_count": 5,
      "metadata": {
        "id": "lw9RD6PymjAO",
        "outputId": "0b3879be-b6b6-4642-fc0f-ca0bea5ed377",
        "colab": {
          "base_uri": "https://localhost:8080/"
        }
      },
      "outputs": [
        {
          "output_type": "stream",
          "name": "stdout",
          "text": [
            "['benign', 'malignant']\n"
          ]
        }
      ],
      "source": [
        "# Response variable.\n",
        "# Relabel such that 0 = 'benign' and 1 = malignant.\n",
        "Y = 1 - data['target']\n",
        "label = list(data['target_names'])\n",
        "label.reverse()\n",
        "print(label)"
      ]
    },
    {
      "cell_type": "code",
      "execution_count": 6,
      "metadata": {
        "id": "58FfhVODmjAP"
      },
      "outputs": [],
      "source": [
        "X_train, X_test, Y_train, Y_test = train_test_split(X, Y, test_size=0.3, random_state=1234)"
      ]
    },
    {
      "cell_type": "markdown",
      "metadata": {
        "id": "nyI0z5NCmjAQ"
      },
      "source": [
        "#### 1.2. Predicting with individual estimator:"
      ]
    },
    {
      "cell_type": "code",
      "execution_count": 7,
      "metadata": {
        "id": "afSUb1spmjAQ",
        "outputId": "59f867b7-a822-47ab-a932-0e05966232ef",
        "colab": {
          "base_uri": "https://localhost:8080/"
        }
      },
      "outputs": [
        {
          "output_type": "stream",
          "name": "stdout",
          "text": [
            "Tree accuracy : 0.942\n"
          ]
        }
      ],
      "source": [
        "# Classification Tree.\n",
        "DTC = DecisionTreeClassifier(max_depth=10)\n",
        "DTC.fit(X_train, Y_train)\n",
        "Y_pred = DTC.predict(X_test)\n",
        "print( \"Tree accuracy : \" + str(np.round(metrics.accuracy_score(Y_test,Y_pred),3)))"
      ]
    },
    {
      "cell_type": "code",
      "execution_count": 8,
      "metadata": {
        "id": "qj-6LyHumjAR",
        "outputId": "9015b2ac-ab35-4e7f-817e-43c4b49cdc3f",
        "colab": {
          "base_uri": "https://localhost:8080/"
        }
      },
      "outputs": [
        {
          "output_type": "stream",
          "name": "stdout",
          "text": [
            "KNN accuracy : 0.936\n"
          ]
        }
      ],
      "source": [
        "# Classification with KNN\n",
        "KNN = KNeighborsClassifier(n_neighbors=5)\n",
        "KNN.fit(X_train, Y_train)\n",
        "Y_pred = KNN.predict(X_test)\n",
        "print( \"KNN accuracy : \" + str(np.round(metrics.accuracy_score(Y_test,Y_pred),3)))"
      ]
    },
    {
      "cell_type": "code",
      "execution_count": 9,
      "metadata": {
        "id": "_zcueySNmjAR",
        "outputId": "cae78719-4bc5-4b74-9f43-65fcbf54ba4f",
        "colab": {
          "base_uri": "https://localhost:8080/"
        }
      },
      "outputs": [
        {
          "output_type": "stream",
          "name": "stdout",
          "text": [
            "Logistic regression accuracy : 0.924\n"
          ]
        }
      ],
      "source": [
        "# Classification with Logistic Regression.\n",
        "LR = LogisticRegression()\n",
        "LR.fit(X_train, Y_train)\n",
        "Y_pred = LR.predict(X_test)\n",
        "print( \"Logistic regression accuracy : \" + str(np.round(metrics.accuracy_score(Y_test,Y_pred),3)))"
      ]
    },
    {
      "cell_type": "code",
      "source": [
        "# Classification with SVM\n",
        "SVM = SVC(kernel='rbf')\n",
        "SVM.fit(X_train, Y_train);\n",
        "Y_pred = SVM.predict(X_test)\n",
        "\n",
        "print( \"SVM accuracy : \" + str(np.round(metrics.accuracy_score(Y_test,Y_pred),3)))"
      ],
      "metadata": {
        "id": "OvmdEpzs2AUw",
        "outputId": "10e5d7a2-96e0-49d5-862e-40839e49e5eb",
        "colab": {
          "base_uri": "https://localhost:8080/"
        }
      },
      "execution_count": 13,
      "outputs": [
        {
          "output_type": "stream",
          "name": "stdout",
          "text": [
            "SVM accuracy : 0.895\n"
          ]
        }
      ]
    },
    {
      "cell_type": "markdown",
      "metadata": {
        "id": "fzoXsHEqmjAS"
      },
      "source": [
        "#### 1.3. Predicting with a voting ensemble:"
      ]
    },
    {
      "cell_type": "code",
      "execution_count": 14,
      "metadata": {
        "id": "97SK4RgNmjAS",
        "outputId": "50fade0d-7086-451b-d096-e2e1722fe939",
        "colab": {
          "base_uri": "https://localhost:8080/"
        }
      },
      "outputs": [
        {
          "output_type": "stream",
          "name": "stdout",
          "text": [
            "Voting Classifier Accuracy : 0.924\n"
          ]
        }
      ],
      "source": [
        "VC = VotingClassifier(estimators=[('Tree',DTC),('knn',KNN),('Logistic',LR),('SVM',SVM)],voting='hard')             # voting = 'hard'.\n",
        "VC.fit(X_train, Y_train)\n",
        "Y_pred = VC.predict(X_test)\n",
        "print( \"Voting Classifier Accuracy : \" + str(np.round(metrics.accuracy_score(Y_test,Y_pred),3)))"
      ]
    },
    {
      "cell_type": "code",
      "execution_count": 15,
      "metadata": {
        "id": "gRs86XavmjAT",
        "outputId": "41f47e46-eeaa-4169-94b0-d0babad527cc",
        "colab": {
          "base_uri": "https://localhost:8080/"
        }
      },
      "outputs": [
        {
          "output_type": "stream",
          "name": "stdout",
          "text": [
            "Voting Classifier Accuracy : 0.947\n"
          ]
        }
      ],
      "source": [
        "VC = VotingClassifier(estimators=[('Tree',DTC),('knn',KNN),('Logistic',LR)],voting='soft')             # voting = 'soft'.\n",
        "VC.fit(X_train, Y_train)\n",
        "Y_pred = VC.predict(X_test)\n",
        "print( \"Voting Classifier Accuracy : \" + str(np.round(metrics.accuracy_score(Y_test,Y_pred),3)))"
      ]
    },
    {
      "cell_type": "code",
      "execution_count": null,
      "metadata": {
        "id": "EUahXF9OmjAT"
      },
      "outputs": [],
      "source": [
        ""
      ]
    }
  ],
  "metadata": {
    "kernelspec": {
      "display_name": "Python 3",
      "language": "python",
      "name": "python3"
    },
    "language_info": {
      "codemirror_mode": {
        "name": "ipython",
        "version": 3
      },
      "file_extension": ".py",
      "mimetype": "text/x-python",
      "name": "python",
      "nbconvert_exporter": "python",
      "pygments_lexer": "ipython3",
      "version": "3.7.3"
    },
    "colab": {
      "name": "ex_0507.ipynb",
      "provenance": [],
      "include_colab_link": true
    }
  },
  "nbformat": 4,
  "nbformat_minor": 0
}