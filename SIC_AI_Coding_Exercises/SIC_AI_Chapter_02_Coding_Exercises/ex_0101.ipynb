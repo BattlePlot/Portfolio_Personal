{
  "cells": [
    {
      "cell_type": "markdown",
      "metadata": {
        "id": "e9aAAlX7-osQ"
      },
      "source": [
        "## Coding Exercise #0101"
      ]
    },
    {
      "cell_type": "markdown",
      "metadata": {
        "id": "TrSTIsiH-osU"
      },
      "source": [
        "### 1. Markdown examples:"
      ]
    },
    {
      "cell_type": "markdown",
      "metadata": {
        "id": "ulz-PfGc-osU"
      },
      "source": [
        "# Title 1\n",
        "## Title 2\n",
        "### Title 3\n",
        "#### Title 4"
      ]
    },
    {
      "cell_type": "markdown",
      "metadata": {
        "id": "vTK-K8LH-osV"
      },
      "source": [
        "[Go to Google](https://www.google.com)"
      ]
    },
    {
      "cell_type": "markdown",
      "metadata": {
        "id": "lXHyuFba-osV"
      },
      "source": [
        "*Italic font*\n",
        "\n",
        "**Bold font**"
      ]
    },
    {
      "cell_type": "markdown",
      "metadata": {
        "id": "QjWa9dTD-osW"
      },
      "source": [
        "An expression in LaTex: $Area = \\pi r^2$  <br>\n",
        "Another expression in LaTex: $P(x) = \\int_{-\\infty}^x f(x) dx$"
      ]
    },
    {
      "cell_type": "markdown",
      "metadata": {
        "id": "4dR3KUzW-osW"
      },
      "source": [
        "The following is a list of items:\n",
        "- An item.\n",
        "- An item.\n",
        "- An item."
      ]
    },
    {
      "cell_type": "markdown",
      "metadata": {
        "id": "95Qn3LZY-osX"
      },
      "source": [
        "> This is a quote.\n",
        "---\n",
        "> Another quote after horizontal line."
      ]
    },
    {
      "cell_type": "markdown",
      "metadata": {
        "id": "HnlLfMRb-osX"
      },
      "source": [
        "### 2. Python quick look:"
      ]
    },
    {
      "cell_type": "code",
      "execution_count": null,
      "metadata": {
        "id": "hQ3NXYO4-osY"
      },
      "outputs": [],
      "source": [
        "# Print out Hello World!\n",
        "print('Hello World!')"
      ]
    },
    {
      "cell_type": "code",
      "execution_count": null,
      "metadata": {
        "id": "j2pJ4A9n-osZ"
      },
      "outputs": [],
      "source": [
        "# Simple arithmetics.\n",
        "1+1"
      ]
    },
    {
      "cell_type": "code",
      "execution_count": null,
      "metadata": {
        "id": "qdBPEkPM-osa"
      },
      "outputs": [],
      "source": [
        "4/3"
      ]
    },
    {
      "cell_type": "code",
      "execution_count": null,
      "metadata": {
        "id": "0wshnJvl-osa"
      },
      "outputs": [],
      "source": [
        "# Floor division.\n",
        "4//3"
      ]
    },
    {
      "cell_type": "code",
      "execution_count": null,
      "metadata": {
        "id": "vMsFOmwW-osb"
      },
      "outputs": [],
      "source": [
        "# Data types.\n",
        "print(type(2**30))\n",
        "print(type(2**100))"
      ]
    },
    {
      "cell_type": "code",
      "execution_count": null,
      "metadata": {
        "id": "HcvFMaen-osb"
      },
      "outputs": [],
      "source": [
        "# Variable.\n",
        "x = 3\n",
        "print(x * 5)"
      ]
    },
    {
      "cell_type": "code",
      "execution_count": null,
      "metadata": {
        "id": "IPWSQXPb-osb"
      },
      "outputs": [],
      "source": [
        "# Iteration.\n",
        "for x in [1,2,3,4,5]:\n",
        "    print(x)"
      ]
    },
    {
      "cell_type": "code",
      "execution_count": null,
      "metadata": {
        "id": "05GMFmNn-osb"
      },
      "outputs": [],
      "source": [
        "# Conditional structure.\n",
        "x = 7\n",
        "if x < 10:\n",
        "    print('x is smaller than 10.')\n",
        "else:\n",
        "    print('x is larger than 10.')"
      ]
    }
  ],
  "metadata": {
    "kernelspec": {
      "display_name": "Python 3",
      "language": "python",
      "name": "python3"
    },
    "language_info": {
      "codemirror_mode": {
        "name": "ipython",
        "version": 3
      },
      "file_extension": ".py",
      "mimetype": "text/x-python",
      "name": "python",
      "nbconvert_exporter": "python",
      "pygments_lexer": "ipython3",
      "version": "3.7.3"
    },
    "colab": {
      "name": "ex_0101.ipynb",
      "provenance": []
    }
  },
  "nbformat": 4,
  "nbformat_minor": 0
}