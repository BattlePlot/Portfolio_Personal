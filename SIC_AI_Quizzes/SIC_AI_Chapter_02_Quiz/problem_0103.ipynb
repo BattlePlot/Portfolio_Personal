{
  "cells": [
    {
      "cell_type": "markdown",
      "metadata": {
        "id": "MBypljoJ5XN8"
      },
      "source": [
        "## Quiz #0103 "
      ]
    },
    {
      "cell_type": "markdown",
      "metadata": {
        "id": "0XEWqGBi5XOA"
      },
      "source": [
        "#### Code the class named 'Calculator' that outputs the result as shown. "
      ]
    },
    {
      "cell_type": "code",
      "execution_count": 14,
      "metadata": {
        "id": "-NCePji85XOA"
      },
      "outputs": [],
      "source": [
        "class Calculator:\n",
        "  def __init__(self,n1,n2):\n",
        "    self.n1=n1\n",
        "    self.n2=n2\n",
        "  \n",
        "  def sum(self):\n",
        "    return self.n1+self.n2\n",
        "\n",
        "  def subtract(self):\n",
        "    return self.n1-self.n2\n",
        "\n",
        "  def product(self):\n",
        "    return self.n1*self.n2\n",
        "\n",
        "  def divide(self):\n",
        "    return self.n1/self.n2"
      ]
    },
    {
      "cell_type": "markdown",
      "metadata": {
        "id": "BYoNqz5J5XOC"
      },
      "source": [
        "Test results:"
      ]
    },
    {
      "cell_type": "code",
      "execution_count": 15,
      "metadata": {
        "id": "aRqTk8aS5XOC"
      },
      "outputs": [],
      "source": [
        "calc1 = Calculator(5,3)\n",
        "calc2 = Calculator(10,2)"
      ]
    },
    {
      "cell_type": "code",
      "execution_count": 16,
      "metadata": {
        "id": "yz9tDd2e5XOD",
        "outputId": "31f831dc-d809-4894-edac-5b20827de630",
        "colab": {
          "base_uri": "https://localhost:8080/"
        }
      },
      "outputs": [
        {
          "output_type": "stream",
          "name": "stdout",
          "text": [
            "8\n",
            "2\n",
            "15\n",
            "1.6666666666666667\n"
          ]
        }
      ],
      "source": [
        "print(calc1.sum())\n",
        "print(calc1.subtract())\n",
        "print(calc1.product())\n",
        "print(calc1.divide())"
      ]
    },
    {
      "cell_type": "code",
      "execution_count": 17,
      "metadata": {
        "id": "Qtc4DbLL5XOE",
        "outputId": "eeb092fd-34bb-42a7-954f-90a00724c9b2",
        "colab": {
          "base_uri": "https://localhost:8080/"
        }
      },
      "outputs": [
        {
          "output_type": "stream",
          "name": "stdout",
          "text": [
            "12\n",
            "8\n",
            "20\n",
            "5.0\n"
          ]
        }
      ],
      "source": [
        "print(calc2.sum())\n",
        "print(calc2.subtract())\n",
        "print(calc2.product())\n",
        "print(calc2.divide())"
      ]
    }
  ],
  "metadata": {
    "kernelspec": {
      "display_name": "Python 3",
      "language": "python",
      "name": "python3"
    },
    "language_info": {
      "codemirror_mode": {
        "name": "ipython",
        "version": 3
      },
      "file_extension": ".py",
      "mimetype": "text/x-python",
      "name": "python",
      "nbconvert_exporter": "python",
      "pygments_lexer": "ipython3",
      "version": "3.7.3"
    },
    "colab": {
      "name": "problem_0103.ipynb",
      "provenance": []
    }
  },
  "nbformat": 4,
  "nbformat_minor": 0
}