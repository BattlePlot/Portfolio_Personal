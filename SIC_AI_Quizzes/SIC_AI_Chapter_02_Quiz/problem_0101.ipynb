{
  "cells": [
    {
      "cell_type": "markdown",
      "metadata": {
        "id": "SKX5OrfP5Ykp"
      },
      "source": [
        "## Quiz #0101"
      ]
    },
    {
      "cell_type": "markdown",
      "metadata": {
        "id": "THrxpiZi5Yks"
      },
      "source": [
        "#### Provide the answers in Python code:"
      ]
    },
    {
      "cell_type": "markdown",
      "metadata": {
        "id": "GZBCe8KB5Ykt"
      },
      "source": [
        "1).  In the class A, students' heights are:\n",
        "\n",
        "161.5 <br>\n",
        "165.9 <br>\n",
        "168.7 <br>\n",
        "163.1 <br>\n",
        "170.8 <br>\n",
        "167.2 <br>\n",
        "\n",
        "Calculate the mean height by using Python 'list' and 'for' loop:"
      ]
    },
    {
      "cell_type": "code",
      "execution_count": 3,
      "metadata": {
        "id": "ohYrUYKm5Ykt",
        "outputId": "61de8a69-7eb2-47b1-ae80-b457037a261a",
        "colab": {
          "base_uri": "https://localhost:8080/"
        }
      },
      "outputs": [
        {
          "output_type": "stream",
          "name": "stdout",
          "text": [
            "166.20000000000002\n"
          ]
        }
      ],
      "source": [
        "A=[161.5,165.9,168.7,163.1,170.8,167.2]\n",
        "\n",
        "sum=0\n",
        "for i in A:\n",
        "  sum +=i\n",
        "\n",
        "result=sum/len(A)\n",
        "\n",
        "print(result)"
      ]
    },
    {
      "cell_type": "markdown",
      "metadata": {
        "id": "FZiK_jFB5Yku"
      },
      "source": [
        "2).  In the class B, students' heights are:\n",
        "\n",
        "172.5 <br>\n",
        "162.9 <br>\n",
        "161.7 <br>\n",
        "160.1 <br>\n",
        "161.8 <br>\n",
        "169.2 <br>\n",
        "\n",
        "Calculate the mean height by using Python 'list' and 'for' loop:"
      ]
    },
    {
      "cell_type": "code",
      "execution_count": 4,
      "metadata": {
        "id": "DZRz0c595Ykv",
        "outputId": "390ebac4-01c5-4e77-ed77-9f3ab4d4a0c5",
        "colab": {
          "base_uri": "https://localhost:8080/"
        }
      },
      "outputs": [
        {
          "output_type": "stream",
          "name": "stdout",
          "text": [
            "164.70000000000002\n"
          ]
        }
      ],
      "source": [
        "B=[172.5,162.9,161.7,160.1,161.8,169.2]\n",
        "\n",
        "sum=0\n",
        "for i in B:\n",
        "  sum +=i\n",
        "\n",
        "result=sum/len(B)\n",
        "\n",
        "print(result)"
      ]
    },
    {
      "cell_type": "markdown",
      "metadata": {
        "id": "FEOFuUNp5Ykv"
      },
      "source": [
        "3). The class A and the class B are joined together to form the class AB. Calculate the mean height by using Python 'list' and 'for' loop:"
      ]
    },
    {
      "cell_type": "code",
      "execution_count": 7,
      "metadata": {
        "id": "iVNRK_-y5Ykw",
        "outputId": "0dedf6d7-fb7f-455b-ae4f-e4971692d657",
        "colab": {
          "base_uri": "https://localhost:8080/"
        }
      },
      "outputs": [
        {
          "output_type": "stream",
          "name": "stdout",
          "text": [
            "165.45000000000002\n"
          ]
        }
      ],
      "source": [
        "AB=A+B\n",
        "\n",
        "sum=0\n",
        "for i in AB:\n",
        "  sum +=i\n",
        "\n",
        "result=sum/len(AB)\n",
        "\n",
        "print(result)"
      ]
    },
    {
      "cell_type": "markdown",
      "metadata": {
        "id": "7C1P0Tqy5Ykx"
      },
      "source": [
        "4). Sort the heights of the class AB."
      ]
    },
    {
      "cell_type": "code",
      "execution_count": 8,
      "metadata": {
        "id": "C2LuGDQo5Ykx",
        "outputId": "91a92e1c-dcde-4bbc-9933-9f8b04adae96",
        "colab": {
          "base_uri": "https://localhost:8080/"
        }
      },
      "outputs": [
        {
          "output_type": "stream",
          "name": "stdout",
          "text": [
            "[161.5, 165.9, 168.7, 163.1, 170.8, 167.2, 172.5, 162.9, 161.7, 160.1, 161.8, 169.2]\n",
            "[160.1, 161.5, 161.7, 161.8, 162.9, 163.1, 165.9, 167.2, 168.7, 169.2, 170.8, 172.5]\n"
          ]
        }
      ],
      "source": [
        "print(AB)\n",
        "AB.sort()\n",
        "print(AB)"
      ]
    },
    {
      "cell_type": "markdown",
      "metadata": {
        "id": "z2fWhSqq5Ykx"
      },
      "source": [
        "5). The class C is formed with students with the height less than 165. Make a list 'C' containing the heights of the class C."
      ]
    },
    {
      "cell_type": "code",
      "execution_count": 9,
      "metadata": {
        "id": "AVGDH1pd5Yky",
        "outputId": "4ed334d3-38a6-4a4d-891d-a969f5b95615",
        "colab": {
          "base_uri": "https://localhost:8080/"
        }
      },
      "outputs": [
        {
          "output_type": "stream",
          "name": "stdout",
          "text": [
            "[160.1, 161.5, 161.7, 161.8, 162.9, 163.1]\n"
          ]
        }
      ],
      "source": [
        "C=[]\n",
        "for i in AB:\n",
        "  if i <165:\n",
        "    C.append(i)\n",
        "\n",
        "print(C)"
      ]
    },
    {
      "cell_type": "markdown",
      "metadata": {
        "id": "Smuq4mjd5Yky"
      },
      "source": [
        "6). The class D is formed with students with the height larger than 160 and less than 170. Make a list containing the heights of the class D."
      ]
    },
    {
      "cell_type": "code",
      "execution_count": 10,
      "metadata": {
        "id": "Yy4N5EiK5Ykz",
        "outputId": "7ef46b62-4db2-4b64-a223-5a53514af21d",
        "colab": {
          "base_uri": "https://localhost:8080/"
        }
      },
      "outputs": [
        {
          "output_type": "stream",
          "name": "stdout",
          "text": [
            "[165.9, 167.2, 168.7, 169.2]\n"
          ]
        }
      ],
      "source": [
        "D=[]\n",
        "for i in AB:\n",
        "  if i > 165 and i < 170:\n",
        "    D.append(i)\n",
        "\n",
        "print(D)"
      ]
    }
  ],
  "metadata": {
    "kernelspec": {
      "display_name": "Python 3",
      "language": "python",
      "name": "python3"
    },
    "language_info": {
      "codemirror_mode": {
        "name": "ipython",
        "version": 3
      },
      "file_extension": ".py",
      "mimetype": "text/x-python",
      "name": "python",
      "nbconvert_exporter": "python",
      "pygments_lexer": "ipython3",
      "version": "3.7.3"
    },
    "colab": {
      "name": "problem_0101.ipynb",
      "provenance": []
    }
  },
  "nbformat": 4,
  "nbformat_minor": 0
}