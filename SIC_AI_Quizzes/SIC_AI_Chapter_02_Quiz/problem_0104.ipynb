{
  "cells": [
    {
      "cell_type": "markdown",
      "metadata": {
        "id": "pmelfFpalPUe"
      },
      "source": [
        "## Quiz #0104 "
      ]
    },
    {
      "cell_type": "markdown",
      "metadata": {
        "id": "FCzD19gwlPUh"
      },
      "source": [
        "#### Code the class 'Aquarium' that outputs the result as shown. "
      ]
    },
    {
      "cell_type": "code",
      "execution_count": 47,
      "metadata": {
        "id": "L_ERADnrlPUi"
      },
      "outputs": [],
      "source": [
        "class Aquarium:\n",
        "  animal_list=set()\n",
        "\n",
        "  def __init__(self):\n",
        "    print(\"An aquarium has opened!\")\n",
        "\n",
        "  def enters(self,animal):\n",
        "    if animal in Aquarium.animal_list:\n",
        "      print(\"we already have \" + animal)\n",
        "    else:\n",
        "      Aquarium.animal_list.add(animal)\n",
        "      print(animal + \" \" + \"is a new member of our Aquarium!\")\n",
        "  \n",
        "  def show_all(self):\n",
        "    print(list(Aquarium.animal_list))\n",
        "\n",
        "  def leaves(self,animal):\n",
        "    if animal in Aquarium.animal_list:\n",
        "      Aquarium.animal_list.remove(animal)\n",
        "    else:\n",
        "      print(\"No such sea creature in the Aquarium\")\n"
      ]
    },
    {
      "cell_type": "markdown",
      "metadata": {
        "id": "XKd0NU9mlPUk"
      },
      "source": [
        "Test results:"
      ]
    },
    {
      "cell_type": "code",
      "execution_count": 48,
      "metadata": {
        "id": "4FMAGCbklPUk",
        "outputId": "938d4a1e-f0ba-4336-b33f-1a0665d690f9",
        "colab": {
          "base_uri": "https://localhost:8080/"
        }
      },
      "outputs": [
        {
          "output_type": "stream",
          "name": "stdout",
          "text": [
            "An aquarium has opened!\n"
          ]
        }
      ],
      "source": [
        "my_aquarium = Aquarium()"
      ]
    },
    {
      "cell_type": "code",
      "execution_count": 49,
      "metadata": {
        "id": "vdSgw47glPUl",
        "outputId": "42efac23-3997-46c0-98c6-db5f1e8251bf",
        "colab": {
          "base_uri": "https://localhost:8080/"
        }
      },
      "outputs": [
        {
          "output_type": "stream",
          "name": "stdout",
          "text": [
            "Turtle is a new member of our Aquarium!\n"
          ]
        }
      ],
      "source": [
        "my_aquarium.enters('Turtle')"
      ]
    },
    {
      "cell_type": "code",
      "execution_count": 50,
      "metadata": {
        "id": "vM0ZKlLUlPUm",
        "outputId": "84dba2cb-b3f3-4b60-dc28-cf64c3880094",
        "colab": {
          "base_uri": "https://localhost:8080/"
        }
      },
      "outputs": [
        {
          "output_type": "stream",
          "name": "stdout",
          "text": [
            "we already have Turtle\n"
          ]
        }
      ],
      "source": [
        "my_aquarium.enters('Turtle')"
      ]
    },
    {
      "cell_type": "code",
      "execution_count": 51,
      "metadata": {
        "id": "q2tKl_L6lPUm",
        "outputId": "8357cdb5-5637-407e-c16a-d19da03513ea",
        "colab": {
          "base_uri": "https://localhost:8080/"
        }
      },
      "outputs": [
        {
          "output_type": "stream",
          "name": "stdout",
          "text": [
            "Dolphin is a new member of our Aquarium!\n"
          ]
        }
      ],
      "source": [
        "my_aquarium.enters('Dolphin')"
      ]
    },
    {
      "cell_type": "code",
      "execution_count": 52,
      "metadata": {
        "id": "fHntZy3FlPUn",
        "outputId": "a77a48e2-34ae-46c2-a31a-bfd05403ea10",
        "colab": {
          "base_uri": "https://localhost:8080/"
        }
      },
      "outputs": [
        {
          "output_type": "stream",
          "name": "stdout",
          "text": [
            "Sea Lion is a new member of our Aquarium!\n"
          ]
        }
      ],
      "source": [
        "my_aquarium.enters('Sea Lion')"
      ]
    },
    {
      "cell_type": "code",
      "execution_count": 53,
      "metadata": {
        "id": "ohb6klC2lPUo",
        "outputId": "2d43c696-8aba-4d61-dd49-4e2bd39f6a3e",
        "colab": {
          "base_uri": "https://localhost:8080/"
        }
      },
      "outputs": [
        {
          "output_type": "stream",
          "name": "stdout",
          "text": [
            "Shark is a new member of our Aquarium!\n"
          ]
        }
      ],
      "source": [
        "my_aquarium.enters('Shark')"
      ]
    },
    {
      "cell_type": "code",
      "execution_count": 54,
      "metadata": {
        "id": "1AF7EjTLlPUp",
        "outputId": "ef3bf490-7d07-4727-a55d-0c2d46f51e28",
        "colab": {
          "base_uri": "https://localhost:8080/"
        }
      },
      "outputs": [
        {
          "output_type": "stream",
          "name": "stdout",
          "text": [
            "['Dolphin', 'Turtle', 'Sea Lion', 'Shark']\n"
          ]
        }
      ],
      "source": [
        "my_aquarium.show_all()"
      ]
    },
    {
      "cell_type": "code",
      "execution_count": 55,
      "metadata": {
        "id": "W424qWBAlPUp"
      },
      "outputs": [],
      "source": [
        "my_aquarium.leaves(\"Sea Lion\")"
      ]
    },
    {
      "cell_type": "code",
      "execution_count": 56,
      "metadata": {
        "id": "KKwlDyV4lPUq",
        "outputId": "fe051526-fc6c-4ff1-b7b9-3fea30e2d5c8",
        "colab": {
          "base_uri": "https://localhost:8080/"
        }
      },
      "outputs": [
        {
          "output_type": "stream",
          "name": "stdout",
          "text": [
            "No such sea creature in the Aquarium\n"
          ]
        }
      ],
      "source": [
        "my_aquarium.leaves(\"Killer Whale\")"
      ]
    },
    {
      "cell_type": "code",
      "execution_count": 57,
      "metadata": {
        "id": "8QsbCikdlPUr",
        "outputId": "42ad85f6-2e59-41cd-a899-b61e064ecead",
        "colab": {
          "base_uri": "https://localhost:8080/"
        }
      },
      "outputs": [
        {
          "output_type": "stream",
          "name": "stdout",
          "text": [
            "['Dolphin', 'Turtle', 'Shark']\n"
          ]
        }
      ],
      "source": [
        "my_aquarium.show_all()"
      ]
    },
    {
      "cell_type": "code",
      "execution_count": 58,
      "metadata": {
        "id": "Ne64TS7clPUr"
      },
      "outputs": [],
      "source": [
        "my_aquarium.leaves(\"Turtle\")"
      ]
    },
    {
      "cell_type": "code",
      "execution_count": 59,
      "metadata": {
        "id": "Z1IpHAfmlPUs",
        "outputId": "8972bf4c-b83c-4696-9062-62777318c82a",
        "colab": {
          "base_uri": "https://localhost:8080/"
        }
      },
      "outputs": [
        {
          "output_type": "stream",
          "name": "stdout",
          "text": [
            "['Dolphin', 'Shark']\n"
          ]
        }
      ],
      "source": [
        "my_aquarium.show_all()"
      ]
    }
  ],
  "metadata": {
    "kernelspec": {
      "display_name": "Python 3",
      "language": "python",
      "name": "python3"
    },
    "language_info": {
      "codemirror_mode": {
        "name": "ipython",
        "version": 3
      },
      "file_extension": ".py",
      "mimetype": "text/x-python",
      "name": "python",
      "nbconvert_exporter": "python",
      "pygments_lexer": "ipython3",
      "version": "3.7.3"
    },
    "colab": {
      "name": "problem_0104.ipynb",
      "provenance": []
    }
  },
  "nbformat": 4,
  "nbformat_minor": 0
}