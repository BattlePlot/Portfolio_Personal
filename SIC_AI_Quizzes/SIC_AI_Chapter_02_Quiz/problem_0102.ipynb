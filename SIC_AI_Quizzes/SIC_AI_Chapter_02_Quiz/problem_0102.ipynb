{
  "cells": [
    {
      "cell_type": "markdown",
      "metadata": {
        "id": "eNlyGt8B5X4f"
      },
      "source": [
        "## Quiz #0102 "
      ]
    },
    {
      "cell_type": "markdown",
      "metadata": {
        "id": "879rHLCR5X4j"
      },
      "source": [
        "#### Use a lambda function and map() to answer the following questions."
      ]
    },
    {
      "cell_type": "markdown",
      "metadata": {
        "id": "zE4g0peV5X4j"
      },
      "source": [
        "1). Add 1 to each element of the list 'a' and create another list. <br>\n",
        "\n",
        "a = [1, 2, 3, 4, 5, 6, 7, 8, 9, 10]"
      ]
    },
    {
      "cell_type": "code",
      "execution_count": 2,
      "metadata": {
        "id": "XVvE1VSJ5X4k",
        "outputId": "9854c011-2422-45f1-87b7-f4bc061b7561",
        "colab": {
          "base_uri": "https://localhost:8080/"
        }
      },
      "outputs": [
        {
          "output_type": "execute_result",
          "data": {
            "text/plain": [
              "[2, 3, 4, 5, 6, 7, 8, 9, 10, 11]"
            ]
          },
          "metadata": {},
          "execution_count": 2
        }
      ],
      "source": [
        "fun = lambda x: x+1\n",
        "\n",
        "a = [1, 2, 3, 4, 5, 6, 7, 8, 9, 10]\n",
        "\n",
        "list(map(fun,a))"
      ]
    },
    {
      "cell_type": "markdown",
      "metadata": {
        "id": "JQjnjgI-5X4l"
      },
      "source": [
        "2). Multiply element-wise the lists 'a' and 'b'. Show the result as another list.\n",
        "\n",
        "a = [2, 4, 6, 8, 10]\n",
        "\n",
        "b = [10, 8, 6, 4, 2]"
      ]
    },
    {
      "cell_type": "code",
      "execution_count": 4,
      "metadata": {
        "id": "lRKf_zfQ5X4l",
        "outputId": "54465ae6-90ca-4e47-a2ce-7aafec45a3ef",
        "colab": {
          "base_uri": "https://localhost:8080/"
        }
      },
      "outputs": [
        {
          "output_type": "execute_result",
          "data": {
            "text/plain": [
              "[20, 32, 36, 32, 20]"
            ]
          },
          "metadata": {},
          "execution_count": 4
        }
      ],
      "source": [
        "fun = lambda x,y: x*y\n",
        "\n",
        "a = [2, 4, 6, 8, 10]\n",
        "\n",
        "b = [10, 8, 6, 4, 2]\n",
        "\n",
        "list(map(fun,a,b))"
      ]
    },
    {
      "cell_type": "markdown",
      "metadata": {
        "id": "4_yMnRn95X4n"
      },
      "source": [
        "#### Use a lambda function and filter() to answer the following questions."
      ]
    },
    {
      "cell_type": "markdown",
      "metadata": {
        "id": "HpeEVL685X4n"
      },
      "source": [
        "3). Find the multiples of 5 in the range 1~100. Show the result as a list."
      ]
    },
    {
      "cell_type": "code",
      "execution_count": 11,
      "metadata": {
        "id": "LueXrbJr5X4o",
        "outputId": "6ce1a836-f8ca-404e-c4e0-0c658c35f850",
        "colab": {
          "base_uri": "https://localhost:8080/"
        }
      },
      "outputs": [
        {
          "output_type": "execute_result",
          "data": {
            "text/plain": [
              "[5, 10, 15, 20, 25, 30, 35, 40, 45, 50, 55, 60, 65, 70, 75, 80, 85, 90, 95]"
            ]
          },
          "metadata": {},
          "execution_count": 11
        }
      ],
      "source": [
        "fun = lambda x: x%5 == 0\n",
        "\n",
        "list(filter(fun,range(1,100)))"
      ]
    },
    {
      "cell_type": "markdown",
      "metadata": {
        "id": "cQSdJaSN5X4o"
      },
      "source": [
        "4). In the following list, find the values larger than 160. Show the result as a list.\n",
        "\n",
        "a = [145.2, 160.3, 155.2, 171.6, 165.34, 167.2, 161.1, 164.9]"
      ]
    },
    {
      "cell_type": "code",
      "execution_count": 12,
      "metadata": {
        "id": "IGQ6aES75X4p",
        "outputId": "4bdd50a7-924c-482e-a273-564339d0b42a",
        "colab": {
          "base_uri": "https://localhost:8080/"
        }
      },
      "outputs": [
        {
          "output_type": "execute_result",
          "data": {
            "text/plain": [
              "[160.3, 171.6, 165.34, 167.2, 161.1, 164.9]"
            ]
          },
          "metadata": {},
          "execution_count": 12
        }
      ],
      "source": [
        "fun = lambda x: x>160\n",
        "\n",
        "a = [145.2, 160.3, 155.2, 171.6, 165.34, 167.2, 161.1, 164.9]\n",
        "\n",
        "list(filter(fun,a))"
      ]
    },
    {
      "cell_type": "markdown",
      "metadata": {
        "id": "u7ijtWYp5X4p"
      },
      "source": [
        "5). In the following list, find the values larger than 160 and smaller than 165. Show the result as a list.\n",
        "\n",
        "a = [145.2, 160.3, 155.2, 171.6, 165.34, 167.2, 161.1, 164.9]"
      ]
    },
    {
      "cell_type": "code",
      "execution_count": 13,
      "metadata": {
        "id": "UgQv5bQa5X4p",
        "outputId": "68ef17d8-b9a9-450a-88b6-063af9f694c4",
        "colab": {
          "base_uri": "https://localhost:8080/"
        }
      },
      "outputs": [
        {
          "output_type": "execute_result",
          "data": {
            "text/plain": [
              "[160.3, 161.1, 164.9]"
            ]
          },
          "metadata": {},
          "execution_count": 13
        }
      ],
      "source": [
        "fun = lambda x: x>160 and x < 165\n",
        "\n",
        "a = [145.2, 160.3, 155.2, 171.6, 165.34, 167.2, 161.1, 164.9]\n",
        "\n",
        "list(filter(fun,a))"
      ]
    },
    {
      "cell_type": "markdown",
      "metadata": {
        "id": "jeWi-BRq5X4q"
      },
      "source": [
        "6). In the following list of names, extract only those stargin with 'J'. Show the result as a list.\n",
        "\n",
        "a = ['Sara', 'Jack', 'Rebecca', 'Jennifer', 'Paul', 'Andrew', 'John']"
      ]
    },
    {
      "cell_type": "code",
      "execution_count": 15,
      "metadata": {
        "id": "8KF1avxt5X4q",
        "outputId": "14b42569-4685-4134-dd17-22f871f3b77a",
        "colab": {
          "base_uri": "https://localhost:8080/"
        }
      },
      "outputs": [
        {
          "output_type": "execute_result",
          "data": {
            "text/plain": [
              "['Jack', 'Jennifer', 'John']"
            ]
          },
          "metadata": {},
          "execution_count": 15
        }
      ],
      "source": [
        "fun = lambda x: x[0]==\"J\"\n",
        "\n",
        "a = ['Sara', 'Jack', 'Rebecca', 'Jennifer', 'Paul', 'Andrew', 'John']\n",
        "\n",
        "list(filter(fun,a))"
      ]
    }
  ],
  "metadata": {
    "kernelspec": {
      "display_name": "Python 3",
      "language": "python",
      "name": "python3"
    },
    "language_info": {
      "codemirror_mode": {
        "name": "ipython",
        "version": 3
      },
      "file_extension": ".py",
      "mimetype": "text/x-python",
      "name": "python",
      "nbconvert_exporter": "python",
      "pygments_lexer": "ipython3",
      "version": "3.7.3"
    },
    "colab": {
      "name": "problem_0102.ipynb",
      "provenance": []
    }
  },
  "nbformat": 4,
  "nbformat_minor": 0
}