{
  "cells": [
    {
      "cell_type": "markdown",
      "metadata": {
        "id": "view-in-github",
        "colab_type": "text"
      },
      "source": [
        "<a href=\"https://colab.research.google.com/github/BattlePlot/Portfolio_Personal/blob/main/SIC_AI_Quizzes/SIC_AI_Chapter_06_Quiz/problem_0501.ipynb\" target=\"_parent\"><img src=\"https://colab.research.google.com/assets/colab-badge.svg\" alt=\"Open In Colab\"/></a>"
      ]
    },
    {
      "cell_type": "markdown",
      "metadata": {
        "id": "bviT6WNLmoW_"
      },
      "source": [
        "## Quiz #0501"
      ]
    },
    {
      "cell_type": "markdown",
      "metadata": {
        "id": "eFgof1csmoXC"
      },
      "source": [
        "### \"Logistic Regression and Gradient Descent Algorithm\""
      ]
    },
    {
      "cell_type": "markdown",
      "metadata": {
        "id": "_peGo7rSmoXD"
      },
      "source": [
        "#### Answer the following questions by providing Python code:\n",
        "#### Objectives:\n",
        "- Code a logistic regression class using only the NumPy library.\n",
        "- Implement in Python the Sigmoid function.\n",
        "- Implement in Python the Gradient of the logarithmic likelihood.\n",
        "- Implement in Python the Gradient Descent Algorithm."
      ]
    },
    {
      "cell_type": "code",
      "execution_count": 1,
      "metadata": {
        "id": "HFauO_aLmoXE"
      },
      "outputs": [],
      "source": [
        "import numpy as np\n",
        "import pandas as pd\n",
        "from sklearn.datasets import load_breast_cancer\n",
        "from sklearn.model_selection import train_test_split"
      ]
    },
    {
      "cell_type": "markdown",
      "metadata": {
        "id": "yGN5_ZsOmoXF"
      },
      "source": [
        "#### Read in data:"
      ]
    },
    {
      "cell_type": "code",
      "execution_count": 2,
      "metadata": {
        "id": "jLuJXUDkmoXG"
      },
      "outputs": [],
      "source": [
        "# Load data.\n",
        "data = load_breast_cancer()\n",
        "# Explanatory variables.\n",
        "X = data['data']\n",
        "# Relabel such that 0 = 'benign' and 1 = malignant.\n",
        "Y = 1 - data['target']"
      ]
    },
    {
      "cell_type": "code",
      "execution_count": 3,
      "metadata": {
        "id": "3a0UNhxMmoXG"
      },
      "outputs": [],
      "source": [
        "# Split the dataset into training and testing.\n",
        "X_train, X_test, Y_train, Y_test = train_test_split(X, Y, test_size=0.4, random_state=1234)"
      ]
    },
    {
      "cell_type": "markdown",
      "metadata": {
        "id": "heEiwOrZmoXH"
      },
      "source": [
        "1). Define the 'sigmoid' and 'gradient' functions to produce the output shown below:"
      ]
    },
    {
      "cell_type": "code",
      "execution_count": null,
      "metadata": {
        "id": "YWoR21b-moXH"
      },
      "outputs": [],
      "source": [
        "def sigmoid(x):\n",
        "       return np.exp(x)/(1+np.exp(x))\n",
        "\n",
        "def gradient(X, Y, beta):\n",
        "       cte=np.exp(-np.dot(beta.T,X))\n",
        "       return -np.dot(Y,X)*cte/(1+cte)"
      ]
    },
    {
      "cell_type": "markdown",
      "metadata": {
        "id": "VA5dLFSCmoXI"
      },
      "source": [
        "2). Define the 'LogisticRegression' class to produce the output shown below:"
      ]
    },
    {
      "cell_type": "code",
      "execution_count": null,
      "metadata": {
        "id": "xR-F2cHUmoXJ"
      },
      "outputs": [],
      "source": [
        "class LogisticRegression:\n",
        "    def __init__(self, learn_rate):\n",
        "       # <Your code goes in here>\n",
        "        \n",
        "    def train(self, input_X, input_Y, n_epochs):\n",
        "       # <Your code goes in here>\n",
        "    \n",
        "    def query(self, input_X, prob=True, cutoff=0.5):\n",
        "       # <Your code goes in here>"
      ]
    },
    {
      "cell_type": "markdown",
      "metadata": {
        "id": "OMfidNvWmoXJ"
      },
      "source": [
        "#### Sample run:"
      ]
    },
    {
      "cell_type": "code",
      "execution_count": null,
      "metadata": {
        "id": "tW6aYlEjmoXJ"
      },
      "outputs": [],
      "source": [
        "# Hyperparameter for the learner.\n",
        "learning_rate = 0.001"
      ]
    },
    {
      "cell_type": "code",
      "execution_count": null,
      "metadata": {
        "id": "MSOz8A_jmoXK"
      },
      "outputs": [],
      "source": [
        "# Train and predict.\n",
        "LR = LogisticRegression(learning_rate)\n",
        "LR.train(X_train, Y_train, 2000)\n",
        "Y_pred = LR.query(X_test,prob=False,cutoff=0.5)"
      ]
    },
    {
      "cell_type": "code",
      "execution_count": null,
      "metadata": {
        "id": "0atgZ-1omoXK",
        "outputId": "24d1c573-4086-43ee-feb6-2eba12dc2cb8"
      },
      "outputs": [
        {
          "name": "stdout",
          "output_type": "stream",
          "text": [
            "Accuracy : 0.912\n"
          ]
        }
      ],
      "source": [
        "# Display the accuracy.\n",
        "acc = (Y_pred == Y_test.reshape(-1,1)).mean()\n",
        "print('Accuracy : {}'.format(np.round(acc,3)))"
      ]
    },
    {
      "cell_type": "code",
      "execution_count": null,
      "metadata": {
        "id": "pUGQCrJnmoXL"
      },
      "outputs": [],
      "source": [
        ""
      ]
    }
  ],
  "metadata": {
    "kernelspec": {
      "display_name": "Python 3",
      "language": "python",
      "name": "python3"
    },
    "language_info": {
      "codemirror_mode": {
        "name": "ipython",
        "version": 3
      },
      "file_extension": ".py",
      "mimetype": "text/x-python",
      "name": "python",
      "nbconvert_exporter": "python",
      "pygments_lexer": "ipython3",
      "version": "3.7.3"
    },
    "colab": {
      "name": "problem_0501.ipynb",
      "provenance": [],
      "include_colab_link": true
    }
  },
  "nbformat": 4,
  "nbformat_minor": 0
}