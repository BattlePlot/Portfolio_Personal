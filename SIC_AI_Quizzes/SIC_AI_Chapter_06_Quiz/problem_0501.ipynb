{
  "cells": [
    {
      "cell_type": "markdown",
      "metadata": {
        "id": "view-in-github",
        "colab_type": "text"
      },
      "source": [
        "<a href=\"https://colab.research.google.com/github/BattlePlot/Portfolio_Personal/blob/main/SIC_AI_Quizzes/SIC_AI_Chapter_06_Quiz/problem_0501.ipynb\" target=\"_parent\"><img src=\"https://colab.research.google.com/assets/colab-badge.svg\" alt=\"Open In Colab\"/></a>"
      ]
    },
    {
      "cell_type": "markdown",
      "metadata": {
        "id": "bviT6WNLmoW_"
      },
      "source": [
        "## Quiz #0501"
      ]
    },
    {
      "cell_type": "markdown",
      "metadata": {
        "id": "eFgof1csmoXC"
      },
      "source": [
        "### \"Logistic Regression and Gradient Descent Algorithm\""
      ]
    },
    {
      "cell_type": "markdown",
      "metadata": {
        "id": "_peGo7rSmoXD"
      },
      "source": [
        "#### Answer the following questions by providing Python code:\n",
        "#### Objectives:\n",
        "- Code a logistic regression class using only the NumPy library.\n",
        "- Implement in Python the Sigmoid function.\n",
        "- Implement in Python the Gradient of the logarithmic likelihood.\n",
        "- Implement in Python the Gradient Descent Algorithm."
      ]
    },
    {
      "cell_type": "code",
      "execution_count": 1,
      "metadata": {
        "id": "HFauO_aLmoXE"
      },
      "outputs": [],
      "source": [
        "import numpy as np\n",
        "import pandas as pd\n",
        "from sklearn.datasets import load_breast_cancer\n",
        "from sklearn.model_selection import train_test_split"
      ]
    },
    {
      "cell_type": "markdown",
      "metadata": {
        "id": "yGN5_ZsOmoXF"
      },
      "source": [
        "#### Read in data:"
      ]
    },
    {
      "cell_type": "code",
      "execution_count": 2,
      "metadata": {
        "id": "jLuJXUDkmoXG"
      },
      "outputs": [],
      "source": [
        "# Load data.\n",
        "data = load_breast_cancer()\n",
        "# Explanatory variables.\n",
        "X = data['data']\n",
        "# Relabel such that 0 = 'benign' and 1 = malignant.\n",
        "Y = 1 - data['target']"
      ]
    },
    {
      "cell_type": "code",
      "execution_count": 3,
      "metadata": {
        "id": "3a0UNhxMmoXG"
      },
      "outputs": [],
      "source": [
        "# Split the dataset into training and testing.\n",
        "X_train, X_test, Y_train, Y_test = train_test_split(X, Y, test_size=0.4, random_state=1234)"
      ]
    },
    {
      "cell_type": "markdown",
      "metadata": {
        "id": "heEiwOrZmoXH"
      },
      "source": [
        "1). Define the 'sigmoid' and 'gradient' functions to produce the output shown below:"
      ]
    },
    {
      "cell_type": "code",
      "execution_count": 54,
      "metadata": {
        "id": "YWoR21b-moXH"
      },
      "outputs": [],
      "source": [
        "def sigmoid(x):\n",
        "  s=1.0/(1.0+np.exp(-x))\n",
        "  return s\n",
        "\n",
        "def gradient(X, Y, beta):\n",
        "\n",
        "  cte=np.exp(-np.dot(X,beta))\n",
        "  return -np.sum(np.dot(Y.T,X)*cte/(1+cte))"
      ]
    },
    {
      "cell_type": "markdown",
      "metadata": {
        "id": "VA5dLFSCmoXI"
      },
      "source": [
        "2). Define the 'LogisticRegression' class to produce the output shown below:"
      ]
    },
    {
      "cell_type": "code",
      "execution_count": 83,
      "metadata": {
        "id": "xR-F2cHUmoXJ"
      },
      "outputs": [],
      "source": [
        "from numpy.ma.core import zeros\n",
        "class LogisticRegression:\n",
        "    def __init__(self, learn_rate):\n",
        "       self.rate=learn_rate\n",
        "        \n",
        "    def train(self, input_X, input_Y, n_epochs):\n",
        "      self.beta=np.random.rand(np.shape(input_X)[1]+1,1)\n",
        "\n",
        "      ones_column = np.ones((input_X.shape[0],1))\n",
        "      X = np.concatenate((ones_column,input_X),axis=1)\n",
        "      Y = (2*input_Y-1).reshape(-1,1)\n",
        "\n",
        "      for n in range(n_epochs):\n",
        "        self.beta = self.beta - self.rate*gradient(X,Y,self.beta)\n",
        "    \n",
        "    def query(self, input_X, prob=True, cutoff=0.5):\n",
        "\n",
        "      ones_column = np.ones((input_X.shape[0],1))\n",
        "      X = np.concatenate((ones_column,input_X),axis=1)\n",
        "\n",
        "      if prob == True:\n",
        "        pass\n",
        "\n",
        "      return sigmoid(np.dot(X,self.beta)).mean()"
      ]
    },
    {
      "cell_type": "markdown",
      "metadata": {
        "id": "OMfidNvWmoXJ"
      },
      "source": [
        "#### Sample run:"
      ]
    },
    {
      "cell_type": "code",
      "execution_count": 6,
      "metadata": {
        "id": "tW6aYlEjmoXJ"
      },
      "outputs": [],
      "source": [
        "# Hyperparameter for the learner.\n",
        "learning_rate = 0.001"
      ]
    },
    {
      "cell_type": "code",
      "execution_count": 84,
      "metadata": {
        "id": "MSOz8A_jmoXK"
      },
      "outputs": [],
      "source": [
        "# Train and predict.\n",
        "LR = LogisticRegression(learning_rate)\n",
        "LR.train(X_train, Y_train, 2000)\n",
        "Y_pred = LR.query(X_test,prob=False,cutoff=0.5)"
      ]
    },
    {
      "cell_type": "code",
      "execution_count": 85,
      "metadata": {
        "id": "0atgZ-1omoXK",
        "outputId": "b6e4d8c1-b000-4e91-d0b2-e879d7d8b6e6",
        "colab": {
          "base_uri": "https://localhost:8080/"
        }
      },
      "outputs": [
        {
          "output_type": "stream",
          "name": "stdout",
          "text": [
            "Accuracy : 0.368\n"
          ]
        }
      ],
      "source": [
        "# Display the accuracy.\n",
        "acc = (Y_pred == Y_test.reshape(-1,1)).mean()\n",
        "print('Accuracy : {}'.format(np.round(acc,3)))"
      ]
    },
    {
      "cell_type": "markdown",
      "source": [
        "Target\n",
        "Accuracy : 0.912"
      ],
      "metadata": {
        "id": "7vJRS3IaqlnP"
      }
    },
    {
      "cell_type": "code",
      "execution_count": 91,
      "metadata": {
        "id": "pUGQCrJnmoXL",
        "outputId": "aa5a6079-6760-4ea2-8d80-fb3a7c2421be",
        "colab": {
          "base_uri": "https://localhost:8080/"
        }
      },
      "outputs": [
        {
          "output_type": "execute_result",
          "data": {
            "text/plain": [
              "1.0"
            ]
          },
          "metadata": {},
          "execution_count": 91
        }
      ],
      "source": [
        ""
      ]
    }
  ],
  "metadata": {
    "kernelspec": {
      "display_name": "Python 3",
      "language": "python",
      "name": "python3"
    },
    "language_info": {
      "codemirror_mode": {
        "name": "ipython",
        "version": 3
      },
      "file_extension": ".py",
      "mimetype": "text/x-python",
      "name": "python",
      "nbconvert_exporter": "python",
      "pygments_lexer": "ipython3",
      "version": "3.7.3"
    },
    "colab": {
      "name": "problem_0501.ipynb",
      "provenance": [],
      "include_colab_link": true
    }
  },
  "nbformat": 4,
  "nbformat_minor": 0
}