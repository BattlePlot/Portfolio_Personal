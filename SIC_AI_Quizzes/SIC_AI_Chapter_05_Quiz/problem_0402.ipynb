{
  "cells": [
    {
      "cell_type": "markdown",
      "metadata": {
        "id": "view-in-github",
        "colab_type": "text"
      },
      "source": [
        "<a href=\"https://colab.research.google.com/github/BattlePlot/Portfolio_Personal/blob/main/SIC_AI_Quizzes/SIC_AI_Chapter_05_Quiz/problem_0402.ipynb\" target=\"_parent\"><img src=\"https://colab.research.google.com/assets/colab-badge.svg\" alt=\"Open In Colab\"/></a>"
      ]
    },
    {
      "cell_type": "markdown",
      "metadata": {
        "id": "1ygK7Ygu8Ur7"
      },
      "source": [
        "## Quiz #0402"
      ]
    },
    {
      "cell_type": "markdown",
      "metadata": {
        "id": "PRksXJXw8Ur_"
      },
      "source": [
        "### \"OLS solution\""
      ]
    },
    {
      "cell_type": "code",
      "execution_count": null,
      "metadata": {
        "id": "dbKPdjQG8UsA"
      },
      "outputs": [],
      "source": [
        "import numpy as np\n",
        "import pandas as pd"
      ]
    },
    {
      "cell_type": "markdown",
      "metadata": {
        "id": "mzphFY8j8UsB"
      },
      "source": [
        "#### Answer the following question by providing Python code:\n",
        "<br>\n",
        "study = an array that contains the hours of study. This is the explanatory variable. <br>\n",
        "score = an array that contains the test scores. This is the response variable."
      ]
    },
    {
      "cell_type": "code",
      "execution_count": null,
      "metadata": {
        "id": "3vADo3xa8UsC"
      },
      "outputs": [],
      "source": [
        "study = np.array([ 3, 4.5, 6, 1.2, 2, 6.9, 6.7, 5.5]).reshape(-1,1)\n",
        "score = np.array([ 88, 85, 90, 80, 81, 92, 95, 90]).reshape(-1,1)"
      ]
    },
    {
      "cell_type": "markdown",
      "metadata": {
        "id": "WG5TEgQD8UsC"
      },
      "source": [
        "1). Define the 'linerRegression' class to match the output shown below:"
      ]
    },
    {
      "cell_type": "code",
      "execution_count": null,
      "metadata": {
        "id": "DRpopGj_8UsD"
      },
      "outputs": [],
      "source": [
        "class linearRegression:\n",
        "    def __init__(self):\n",
        "      self.B=0\n",
        "      self.e=0\n",
        "      self.R=0\n",
        "        \n",
        "    def train(self, input_X, input_Y):\n",
        "      X=input_X\n",
        "      Y=input_Y\n",
        "\n",
        "      self.B=[np.linalg.pinv((X*np.transpose(X)))*X]*np.transpose(Y)\n",
        "      self.e=(X*self.B-Y)**2/len(X)\n",
        "    \n",
        "    def output(self):\n",
        "      print(self.B)"
      ]
    },
    {
      "cell_type": "markdown",
      "metadata": {
        "id": "lPjK0NGS8UsE"
      },
      "source": [
        "**Sample run:**"
      ]
    },
    {
      "cell_type": "code",
      "execution_count": null,
      "metadata": {
        "id": "KUdRFlkX8UsE",
        "outputId": "a02ae524-32ae-485b-cb1e-3ba6df8462f4",
        "colab": {
          "base_uri": "https://localhost:8080/"
        }
      },
      "outputs": [
        {
          "output_type": "stream",
          "name": "stdout",
          "text": [
            "[[[0.0634971  0.09199863 0.12988043 0.02308985 0.03896413 0.15268166\n",
            "   0.15309054 0.11905706]\n",
            "  [0.14286847 0.20699693 0.29223096 0.05195217 0.08766929 0.34353373\n",
            "   0.34445371 0.26787838]\n",
            "  [0.25398839 0.36799454 0.5195217  0.09235941 0.15585651 0.61072662\n",
            "   0.61236215 0.47622823]\n",
            "  [0.01015954 0.01471978 0.02078087 0.00369438 0.00623426 0.02442906\n",
            "   0.02449449 0.01904913]\n",
            "  [0.02822093 0.04088828 0.05772463 0.01026216 0.01731739 0.06785851\n",
            "   0.06804024 0.05291425]\n",
            "  [0.33589964 0.48667278 0.68706745 0.12214532 0.20612024 0.80768596\n",
            "   0.80984895 0.62981183]\n",
            "  [0.31670941 0.45886875 0.6478147  0.11516706 0.19434441 0.76154217\n",
            "   0.76358159 0.59383014]\n",
            "  [0.2134208  0.30921763 0.43654254 0.07760756 0.13096276 0.51318001\n",
            "   0.51455431 0.400164  ]]]\n"
          ]
        }
      ],
      "source": [
        "LR = linearRegression()                    # Create a linear regression object.\n",
        "LR.train(study, score)                     # Train.\n",
        "LR.output()                                # Display the training result."
      ]
    },
    {
      "cell_type": "markdown",
      "source": [
        "Coefficient\n",
        "\n",
        "Intercept = 77.684670\n",
        "X1 = 2.221303\n",
        "------------------------------\n",
        "R^2 = 0.845842"
      ],
      "metadata": {
        "id": "F37szGIQPHE1"
      }
    },
    {
      "cell_type": "code",
      "execution_count": null,
      "metadata": {
        "id": "gJDetOVw8UsG"
      },
      "outputs": [],
      "source": [
        ""
      ]
    }
  ],
  "metadata": {
    "kernelspec": {
      "display_name": "Python 3",
      "language": "python",
      "name": "python3"
    },
    "language_info": {
      "codemirror_mode": {
        "name": "ipython",
        "version": 3
      },
      "file_extension": ".py",
      "mimetype": "text/x-python",
      "name": "python",
      "nbconvert_exporter": "python",
      "pygments_lexer": "ipython3",
      "version": "3.7.3"
    },
    "colab": {
      "name": "problem_0402.ipynb",
      "provenance": [],
      "include_colab_link": true
    }
  },
  "nbformat": 4,
  "nbformat_minor": 0
}