{
  "cells": [
    {
      "cell_type": "markdown",
      "metadata": {
        "id": "view-in-github",
        "colab_type": "text"
      },
      "source": [
        "<a href=\"https://colab.research.google.com/github/BattlePlot/Portfolio_Personal/blob/main/SIC_AI_Quizzes/SIC_AI_Chapter_05_Quiz/problem_0402.ipynb\" target=\"_parent\"><img src=\"https://colab.research.google.com/assets/colab-badge.svg\" alt=\"Open In Colab\"/></a>"
      ]
    },
    {
      "cell_type": "markdown",
      "metadata": {
        "id": "1ygK7Ygu8Ur7"
      },
      "source": [
        "## Quiz #0402"
      ]
    },
    {
      "cell_type": "markdown",
      "metadata": {
        "id": "PRksXJXw8Ur_"
      },
      "source": [
        "### \"OLS solution\""
      ]
    },
    {
      "cell_type": "code",
      "execution_count": 1,
      "metadata": {
        "id": "dbKPdjQG8UsA"
      },
      "outputs": [],
      "source": [
        "import numpy as np\n",
        "import pandas as pd"
      ]
    },
    {
      "cell_type": "markdown",
      "metadata": {
        "id": "mzphFY8j8UsB"
      },
      "source": [
        "#### Answer the following question by providing Python code:\n",
        "<br>\n",
        "study = an array that contains the hours of study. This is the explanatory variable. <br>\n",
        "score = an array that contains the test scores. This is the response variable."
      ]
    },
    {
      "cell_type": "code",
      "execution_count": 111,
      "metadata": {
        "id": "3vADo3xa8UsC"
      },
      "outputs": [],
      "source": [
        "study = np.array([ 3, 4.5, 6, 1.2, 2, 6.9, 6.7, 5.5]).reshape(-1,1)\n",
        "score = np.array([ 88, 85, 90, 80, 81, 92, 95, 90]).reshape(-1,1)"
      ]
    },
    {
      "cell_type": "markdown",
      "metadata": {
        "id": "WG5TEgQD8UsC"
      },
      "source": [
        "1). Define the 'linerRegression' class to match the output shown below:"
      ]
    },
    {
      "cell_type": "code",
      "execution_count": 114,
      "metadata": {
        "id": "DRpopGj_8UsD"
      },
      "outputs": [],
      "source": [
        "class linearRegression:\n",
        "    def __init__(self):\n",
        "      self.B=0\n",
        "      self.e=0\n",
        "      self.R2=0\n",
        "        \n",
        "    def train(self, input_X, input_Y):\n",
        "\n",
        "      X=np.ones([np.shape(input_X)[0],np.shape(input_X)[1]+1])\n",
        "      X[0::,1::]=input_X\n",
        "      Y=input_Y\n",
        "\n",
        "      part1=np.linalg.pinv(np.matmul(np.transpose(X),X))\n",
        "      part2=np.matmul(part1,np.transpose(X))\n",
        "\n",
        "      self.B=np.matmul(part2,Y)\n",
        "\n",
        "      SSE=0\n",
        "      SST=0\n",
        "      tavg=np.average(Y)\n",
        "      for i in range(0,len(Y)):\n",
        "        SSE+=(Y[i]-(self.B[0]+self.B[1]*X[i,1]))**2\n",
        "        SST+=(Y[i]-tavg)**2\n",
        "      \n",
        "      self.R2=1-SSE/SST\n",
        "    \n",
        "    def output(self):\n",
        "      print(\"Intercept =\" + str(self.B[0]))\n",
        "      print(\"X1 = \" + str(self.B[1]))\n",
        "      print(\"R^2 = \" + str(self.R2))\n"
      ]
    },
    {
      "cell_type": "markdown",
      "metadata": {
        "id": "lPjK0NGS8UsE"
      },
      "source": [
        "**Sample run:**"
      ]
    },
    {
      "cell_type": "code",
      "execution_count": 115,
      "metadata": {
        "id": "KUdRFlkX8UsE",
        "outputId": "77db5c7f-e472-4197-b993-c65df3c94efc",
        "colab": {
          "base_uri": "https://localhost:8080/"
        }
      },
      "outputs": [
        {
          "output_type": "stream",
          "name": "stdout",
          "text": [
            "Intercept =[77.68466978]\n",
            "X1 = [2.22130284]\n",
            "R^2 = [0.84584233]\n"
          ]
        }
      ],
      "source": [
        "LR = linearRegression()                    # Create a linear regression object.\n",
        "LR.train(study, score)                     # Train.\n",
        "LR.output()                                # Display the training result."
      ]
    },
    {
      "cell_type": "markdown",
      "source": [
        "Coefficient\n",
        "\n",
        "Intercept = 77.684670\n",
        "X1 = 2.221303\n",
        "------------------------------\n",
        "R^2 = 0.845842"
      ],
      "metadata": {
        "id": "F37szGIQPHE1"
      }
    },
    {
      "cell_type": "code",
      "execution_count": null,
      "metadata": {
        "id": "gJDetOVw8UsG"
      },
      "outputs": [],
      "source": [
        ""
      ]
    }
  ],
  "metadata": {
    "kernelspec": {
      "display_name": "Python 3",
      "language": "python",
      "name": "python3"
    },
    "language_info": {
      "codemirror_mode": {
        "name": "ipython",
        "version": 3
      },
      "file_extension": ".py",
      "mimetype": "text/x-python",
      "name": "python",
      "nbconvert_exporter": "python",
      "pygments_lexer": "ipython3",
      "version": "3.7.3"
    },
    "colab": {
      "name": "problem_0402.ipynb",
      "provenance": [],
      "include_colab_link": true
    }
  },
  "nbformat": 4,
  "nbformat_minor": 0
}