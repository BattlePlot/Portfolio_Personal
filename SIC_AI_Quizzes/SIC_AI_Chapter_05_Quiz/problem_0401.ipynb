{
  "cells": [
    {
      "cell_type": "markdown",
      "metadata": {
        "id": "view-in-github",
        "colab_type": "text"
      },
      "source": [
        "<a href=\"https://colab.research.google.com/github/BattlePlot/Portfolio_Personal/blob/main/SIC_AI_Quizzes/SIC_AI_Chapter_05_Quiz/problem_0401.ipynb\" target=\"_parent\"><img src=\"https://colab.research.google.com/assets/colab-badge.svg\" alt=\"Open In Colab\"/></a>"
      ]
    },
    {
      "cell_type": "markdown",
      "metadata": {
        "id": "taoOKQtguS1o"
      },
      "source": [
        "## Quiz #0401"
      ]
    },
    {
      "cell_type": "markdown",
      "metadata": {
        "id": "vyKp3Cw6uS1s"
      },
      "source": [
        "### \"Optimal number of clusters for K-means clustering\""
      ]
    },
    {
      "cell_type": "code",
      "execution_count": 1,
      "metadata": {
        "id": "AS_5rSmxuS1s"
      },
      "outputs": [],
      "source": [
        "import numpy as np\n",
        "import pandas as pd\n",
        "import matplotlib.pyplot as plt\n",
        "from sklearn.datasets import make_blobs\n",
        "from sklearn.cluster import KMeans\n",
        "%matplotlib inline"
      ]
    },
    {
      "cell_type": "markdown",
      "metadata": {
        "id": "G9DAJb-9uS1u"
      },
      "source": [
        "#### Answer the following question by providing Python code:"
      ]
    },
    {
      "cell_type": "code",
      "execution_count": 2,
      "metadata": {
        "id": "A0Ij3bW7uS1v",
        "outputId": "b89b8fb3-19af-413d-df48-305e4af83a67",
        "colab": {
          "base_uri": "https://localhost:8080/"
        }
      },
      "outputs": [
        {
          "output_type": "execute_result",
          "data": {
            "text/plain": [
              "(150, 8)"
            ]
          },
          "metadata": {},
          "execution_count": 2
        }
      ],
      "source": [
        "# We will use simulated data.\n",
        "# 3 clusters in 8 dimensional space.\n",
        "# Hard to visualize!\n",
        "X, label = make_blobs(n_samples=150, n_features=8, centers=3, cluster_std = 2, random_state=123)\n",
        "X.shape"
      ]
    },
    {
      "cell_type": "markdown",
      "metadata": {
        "id": "hHKpQoK8uS1v"
      },
      "source": [
        "1). Define a function that calculates the \"total internal sum of squares\".\n",
        "- X         :   Data.\n",
        "- centers   :   Array that contains the centroid coordinates. Calculated by kmeans.\n",
        "- clusters  :   Array of cluster labels. Calculated by kmeans. <br> <br>\n",
        "HINT: Implement the formula from the lecture note."
      ]
    },
    {
      "cell_type": "code",
      "source": [
        "centers = KMeans(n_clusters=3,random_state=123)\n",
        "centers = centers.fit(X)\n",
        "clusters = pd.Series(centers.labels_)\n",
        "centers.cluster_centers_"
      ],
      "metadata": {
        "id": "Bub_mDRTunUk",
        "outputId": "2572c60f-d3b9-4a51-aba7-55c3fc28b16c",
        "colab": {
          "base_uri": "https://localhost:8080/"
        }
      },
      "execution_count": 91,
      "outputs": [
        {
          "output_type": "execute_result",
          "data": {
            "text/plain": [
              "array([[ 3.90017709, -4.49107153, -5.42803149,  0.79601424,  4.29469615,\n",
              "        -1.81457648,  9.51919598,  3.41269781],\n",
              "       [-0.45058073, -1.95855821, -2.81289371,  4.64334117, -1.61152497,\n",
              "        -8.70234723, -2.26657376,  4.98800128],\n",
              "       [-6.09715151, -6.62338226,  0.64332419,  0.51743229,  2.50758482,\n",
              "         6.98957767,  4.47094678,  1.79021736]])"
            ]
          },
          "metadata": {},
          "execution_count": 91
        }
      ]
    },
    {
      "cell_type": "code",
      "execution_count": 98,
      "metadata": {
        "id": "MFInsNyyuS1w"
      },
      "outputs": [],
      "source": [
        "def total_internal_ss(X, centers, clusters):\n",
        "  SS=0\n",
        "  for i in range(0,len(centers.cluster_centers_)):\n",
        "    for j in range(0,X.shape[0]):\n",
        "      if clusters[j]==i:\n",
        "        SS+=np.linalg.norm(X[j,]-centers.cluster_centers_[i,])\n",
        "  \n",
        "  return SS"
      ]
    },
    {
      "cell_type": "markdown",
      "metadata": {
        "id": "kK6xZWvFuS1w"
      },
      "source": [
        "2). Visualize as a Scatter plot the \"total internal sum of squares\" vs N# of clusters. \n",
        "- Then, determine the optimal number of clusters.\n",
        "- Is this number the same as expected?"
      ]
    },
    {
      "cell_type": "code",
      "execution_count": 99,
      "metadata": {
        "id": "yHn7g0FSuS1x"
      },
      "outputs": [],
      "source": [
        "SS=[]\n",
        "for i in range(1,11):\n",
        "  centers=KMeans(n_clusters=i,random_state=123)\n",
        "  centers = centers.fit(X)\n",
        "  clusters = pd.Series(centers.labels_)\n",
        "  sum=total_internal_ss(X,centers,clusters)\n",
        "  SS.append(sum)"
      ]
    },
    {
      "cell_type": "code",
      "execution_count": 103,
      "metadata": {
        "id": "g_3auTfKuS1y",
        "outputId": "e8d6b1d7-bfc0-467f-e475-19ddad0c6123",
        "colab": {
          "base_uri": "https://localhost:8080/",
          "height": 312
        }
      },
      "outputs": [
        {
          "output_type": "execute_result",
          "data": {
            "text/plain": [
              "<function matplotlib.pyplot.show>"
            ]
          },
          "metadata": {},
          "execution_count": 103
        },
        {
          "output_type": "display_data",
          "data": {
            "image/png": "[encoded data removed]",
            "text/plain": [
              "<Figure size 432x288 with 1 Axes>"
            ]
          },
          "metadata": {
            "needs_background": "light"
          }
        }
      ],
      "source": [
        "plt.scatter(range(1,11),SS)\n",
        "plt.title('Total internal sum of squares vs N# of clusters')\n",
        "plt.xlabel('N# of clusters')\n",
        "plt.ylabel('Total internal sum of squares')\n",
        "plt.show"
      ]
    }
  ],
  "metadata": {
    "kernelspec": {
      "display_name": "Python 3",
      "language": "python",
      "name": "python3"
    },
    "language_info": {
      "codemirror_mode": {
        "name": "ipython",
        "version": 3
      },
      "file_extension": ".py",
      "mimetype": "text/x-python",
      "name": "python",
      "nbconvert_exporter": "python",
      "pygments_lexer": "ipython3",
      "version": "3.7.3"
    },
    "colab": {
      "name": "problem_0401.ipynb",
      "provenance": [],
      "include_colab_link": true
    }
  },
  "nbformat": 4,
  "nbformat_minor": 0
}