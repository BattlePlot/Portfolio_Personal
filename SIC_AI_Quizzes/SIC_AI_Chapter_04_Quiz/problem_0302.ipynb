{
  "cells": [
    {
      "cell_type": "markdown",
      "metadata": {
        "id": "view-in-github",
        "colab_type": "text"
      },
      "source": [
        "<a href=\"https://colab.research.google.com/github/BattlePlot/Portfolio_Personal/blob/main/SIC_AI_Quizzes/SIC_AI_Chapter_04_Quiz/problem_0302.ipynb\" target=\"_parent\"><img src=\"https://colab.research.google.com/assets/colab-badge.svg\" alt=\"Open In Colab\"/></a>"
      ]
    },
    {
      "cell_type": "markdown",
      "metadata": {
        "id": "W52L5JNYkHL2"
      },
      "source": [
        "## Quiz #0302"
      ]
    },
    {
      "cell_type": "markdown",
      "metadata": {
        "id": "0mQulrhskHL6"
      },
      "source": [
        "### \"Bolt specification\""
      ]
    },
    {
      "cell_type": "code",
      "execution_count": 1,
      "metadata": {
        "id": "tPzpn5bgkHL6"
      },
      "outputs": [],
      "source": [
        "import numpy as np\n",
        "import scipy.stats as st"
      ]
    },
    {
      "cell_type": "markdown",
      "metadata": {
        "id": "dRB2oTzIkHL8"
      },
      "source": [
        "#### Answer the following questions by providing Python code:"
      ]
    },
    {
      "cell_type": "markdown",
      "metadata": {
        "id": "rcGT8U2FkHL8"
      },
      "source": [
        "According to the specification sheet, the average weight of the bolts is $\\mu = 30$gr with $\\sigma = 2$gr.<br>\n",
        "Suppose that a sample of 50 bolts is drawn. "
      ]
    },
    {
      "cell_type": "code",
      "execution_count": 2,
      "metadata": {
        "id": "YrD6CqLtkHL9"
      },
      "outputs": [],
      "source": [
        "mu = 30\n",
        "sigma = 2\n",
        "n = 50\n",
        "df = n-1"
      ]
    },
    {
      "cell_type": "markdown",
      "metadata": {
        "id": "h3SKHDuukHL9"
      },
      "source": [
        "1). What is the probability that the sample mean is **between** 29.8gr and 30.2gr? (Use Standard Normal and Student-t)"
      ]
    },
    {
      "cell_type": "code",
      "execution_count": 4,
      "metadata": {
        "id": "vHQ5O24gkHL-"
      },
      "outputs": [],
      "source": [
        "lb=29.8\n",
        "ub=30.2\n",
        "\n",
        "SE=sigma/np.sqrt(n)"
      ]
    },
    {
      "cell_type": "code",
      "execution_count": 5,
      "metadata": {
        "id": "ZFnxTLo7kHL_",
        "outputId": "96f3ad01-9801-44d9-ffe5-573a6a8f88a7",
        "colab": {
          "base_uri": "https://localhost:8080/"
        }
      },
      "outputs": [
        {
          "output_type": "stream",
          "name": "stdout",
          "text": [
            "The probability is: 52.049987781304495%\n"
          ]
        }
      ],
      "source": [
        "result=st.norm.cdf(ub,loc = mu, scale=SE) - st.norm.cdf(lb,loc = mu, scale=SE)\n",
        "print(\"The probability is: \"+str(result*100) + \"%\")"
      ]
    },
    {
      "cell_type": "code",
      "execution_count": 6,
      "metadata": {
        "id": "jGwm1rvVkHMA",
        "outputId": "a590927a-db30-4383-d2a1-24caf10046e3",
        "colab": {
          "base_uri": "https://localhost:8080/"
        }
      },
      "outputs": [
        {
          "output_type": "stream",
          "name": "stdout",
          "text": [
            "The probability is: 51.71504292916964%\n"
          ]
        }
      ],
      "source": [
        "# Using the Student-t.\n",
        "result=st.t.cdf(ub, df , loc = mu, scale = SE )-st.t.cdf(lb, df , loc = mu, scale = SE )\n",
        "print(\"The probability is: \"+str(result*100) + \"%\")"
      ]
    },
    {
      "cell_type": "markdown",
      "metadata": {
        "id": "CsE7OSlGkHMB"
      },
      "source": [
        "2). What is the probability that the sample mean is **larger** than 30.5gr? (Use Standard Normal and Student-t)"
      ]
    },
    {
      "cell_type": "code",
      "execution_count": 7,
      "metadata": {
        "id": "iVC82kMVkHMB"
      },
      "outputs": [],
      "source": [
        "target=30.5"
      ]
    },
    {
      "cell_type": "code",
      "execution_count": 8,
      "metadata": {
        "id": "SOzOhZ_JkHMC",
        "outputId": "4c25109d-ced8-4d6f-fdaf-fa1188cc6a99",
        "colab": {
          "base_uri": "https://localhost:8080/"
        }
      },
      "outputs": [
        {
          "output_type": "stream",
          "name": "stdout",
          "text": [
            "The probability is: 3.85499358717708%\n"
          ]
        }
      ],
      "source": [
        "# Using the Standard Normal.\n",
        "result=1-st.norm.cdf(target,loc = mu, scale=SE)\n",
        "print(\"The probability is: \"+str(result*100) + \"%\")"
      ]
    },
    {
      "cell_type": "code",
      "execution_count": 9,
      "metadata": {
        "id": "_feGukAekHMC",
        "outputId": "dccbf3ea-24fb-466c-df7d-cfa8d4ef42b3",
        "colab": {
          "base_uri": "https://localhost:8080/"
        }
      },
      "outputs": [
        {
          "output_type": "stream",
          "name": "stdout",
          "text": [
            "The probability is: 4.166307987075468%\n"
          ]
        }
      ],
      "source": [
        "# Using the Student-t.\n",
        "result=1-st.t.cdf(target, df , loc = mu, scale = SE )\n",
        "print(\"The probability is: \"+str(result*100) + \"%\")"
      ]
    },
    {
      "cell_type": "code",
      "execution_count": null,
      "metadata": {
        "id": "IE__L0VZkHMD"
      },
      "outputs": [],
      "source": [
        ""
      ]
    }
  ],
  "metadata": {
    "kernelspec": {
      "display_name": "Python 3",
      "language": "python",
      "name": "python3"
    },
    "language_info": {
      "codemirror_mode": {
        "name": "ipython",
        "version": 3
      },
      "file_extension": ".py",
      "mimetype": "text/x-python",
      "name": "python",
      "nbconvert_exporter": "python",
      "pygments_lexer": "ipython3",
      "version": "3.7.3"
    },
    "colab": {
      "name": "problem_0302.ipynb",
      "provenance": [],
      "include_colab_link": true
    }
  },
  "nbformat": 4,
  "nbformat_minor": 0
}