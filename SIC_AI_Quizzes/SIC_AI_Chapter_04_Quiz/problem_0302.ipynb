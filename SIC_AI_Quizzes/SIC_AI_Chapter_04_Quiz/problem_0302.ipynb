{
  "cells": [
    {
      "cell_type": "markdown",
      "metadata": {
        "id": "le4uTn9-kKfj"
      },
      "source": [
        "## Quiz #0302"
      ]
    },
    {
      "cell_type": "markdown",
      "metadata": {
        "id": "3Vtwb-HJkKfn"
      },
      "source": [
        "### \"Bolt specification\""
      ]
    },
    {
      "cell_type": "code",
      "execution_count": 1,
      "metadata": {
        "id": "-BSXbHw1kKfo"
      },
      "outputs": [],
      "source": [
        "import numpy as np\n",
        "import scipy.stats as st"
      ]
    },
    {
      "cell_type": "markdown",
      "metadata": {
        "id": "_bXfHoDJkKfq"
      },
      "source": [
        "#### Answer the following questions by providing Python code:"
      ]
    },
    {
      "cell_type": "markdown",
      "metadata": {
        "id": "Nrdvi8YXkKfq"
      },
      "source": [
        "According to the specification sheet, the average weight of the bolts is $\\mu = 30$gr with $\\sigma = 2$gr.<br>\n",
        "Suppose that a sample of 50 bolts is drawn. "
      ]
    },
    {
      "cell_type": "code",
      "execution_count": 2,
      "metadata": {
        "id": "umcdLmsCkKfq"
      },
      "outputs": [],
      "source": [
        "mu = 30\n",
        "sigma = 2\n",
        "n = 50\n",
        "df = n-1"
      ]
    },
    {
      "cell_type": "markdown",
      "metadata": {
        "id": "bxT5RDc6kKfr"
      },
      "source": [
        "1). What is the probability that the sample mean is **between** 29.8gr and 30.2gr? (Use Standard Normal and Student-t)"
      ]
    },
    {
      "cell_type": "code",
      "execution_count": 10,
      "metadata": {
        "id": "1oHY4DH6kKfs"
      },
      "outputs": [],
      "source": [
        "lb=29.8\n",
        "ub=30.2"
      ]
    },
    {
      "cell_type": "code",
      "execution_count": 8,
      "metadata": {
        "id": "pCZ3Csb3kKfs",
        "outputId": "6f68d73d-a30f-4577-fd77-92754688323a",
        "colab": {
          "base_uri": "https://localhost:8080/"
        }
      },
      "outputs": [
        {
          "output_type": "stream",
          "name": "stdout",
          "text": [
            "The probability is: 7.96556745540577%\n"
          ]
        }
      ],
      "source": [
        "result=st.norm.cdf(ub,loc = mu, scale=sigma) - st.norm.cdf(lb,loc = mu, scale=sigma)\n",
        "print(\"The probability is: \"+str(result*100) + \"%\")"
      ]
    },
    {
      "cell_type": "code",
      "execution_count": 9,
      "metadata": {
        "id": "LTY6lxV3kKft",
        "outputId": "1a9a8fcb-717b-4203-ae8f-3d6be9030ae1",
        "colab": {
          "base_uri": "https://localhost:8080/"
        }
      },
      "outputs": [
        {
          "output_type": "stream",
          "name": "stdout",
          "text": [
            "The probability is: 7.924764741489632%\n"
          ]
        }
      ],
      "source": [
        "# Using the Student-t.\n",
        "result=st.t.cdf(ub, df , loc = mu, scale = sigma )-st.t.cdf(lb, df , loc = mu, scale = sigma )\n",
        "print(\"The probability is: \"+str(result*100) + \"%\")"
      ]
    },
    {
      "cell_type": "markdown",
      "metadata": {
        "id": "w67-XUaSkKfu"
      },
      "source": [
        "2). What is the probability that the sample mean is **larger** than 30.5gr? (Use Standard Normal and Student-t)"
      ]
    },
    {
      "cell_type": "code",
      "execution_count": 12,
      "metadata": {
        "id": "mk8ZcIP9kKfu"
      },
      "outputs": [],
      "source": [
        "target=30.5"
      ]
    },
    {
      "cell_type": "code",
      "execution_count": 13,
      "metadata": {
        "id": "i9BxY2oZkKfv",
        "outputId": "6ee01a9c-4dad-4d7d-bcd9-be3cc8c24094",
        "colab": {
          "base_uri": "https://localhost:8080/"
        }
      },
      "outputs": [
        {
          "output_type": "stream",
          "name": "stdout",
          "text": [
            "The probability is: 40.12936743170763%\n"
          ]
        }
      ],
      "source": [
        "# Using the Standard Normal.\n",
        "result=1-st.norm.cdf(target,loc = mu, scale=sigma)\n",
        "print(\"The probability is: \"+str(result*100) + \"%\")"
      ]
    },
    {
      "cell_type": "code",
      "execution_count": 14,
      "metadata": {
        "id": "cIQxiRSokKfv",
        "outputId": "1474022c-2c82-4e3c-d116-598d643fd260",
        "colab": {
          "base_uri": "https://localhost:8080/"
        }
      },
      "outputs": [
        {
          "output_type": "stream",
          "name": "stdout",
          "text": [
            "The probability is: 40.18162657702287%\n"
          ]
        }
      ],
      "source": [
        "# Using the Student-t.\n",
        "result=1-st.t.cdf(target, df , loc = mu, scale = sigma )\n",
        "print(\"The probability is: \"+str(result*100) + \"%\")"
      ]
    },
    {
      "cell_type": "code",
      "execution_count": null,
      "metadata": {
        "id": "kWVseUfekKfv"
      },
      "outputs": [],
      "source": [
        ""
      ]
    }
  ],
  "metadata": {
    "kernelspec": {
      "display_name": "Python 3",
      "language": "python",
      "name": "python3"
    },
    "language_info": {
      "codemirror_mode": {
        "name": "ipython",
        "version": 3
      },
      "file_extension": ".py",
      "mimetype": "text/x-python",
      "name": "python",
      "nbconvert_exporter": "python",
      "pygments_lexer": "ipython3",
      "version": "3.7.3"
    },
    "colab": {
      "name": "problem_0302.ipynb",
      "provenance": []
    }
  },
  "nbformat": 4,
  "nbformat_minor": 0
}