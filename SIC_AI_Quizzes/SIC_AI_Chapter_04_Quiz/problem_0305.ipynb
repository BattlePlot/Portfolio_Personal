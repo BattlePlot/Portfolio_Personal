{
  "cells": [
    {
      "cell_type": "markdown",
      "metadata": {
        "id": "view-in-github",
        "colab_type": "text"
      },
      "source": [
        "<a href=\"https://colab.research.google.com/github/BattlePlot/Portfolio_Personal/blob/main/SIC_AI_Quizzes/SIC_AI_Chapter_04_Quiz/problem_0305.ipynb\" target=\"_parent\"><img src=\"https://colab.research.google.com/assets/colab-badge.svg\" alt=\"Open In Colab\"/></a>"
      ]
    },
    {
      "cell_type": "markdown",
      "metadata": {
        "id": "ke-Q90GXvnq3"
      },
      "source": [
        "## Quiz #0305"
      ]
    },
    {
      "cell_type": "markdown",
      "metadata": {
        "id": "VzEec3dxvnq8"
      },
      "source": [
        "### \"Correlation and interval estimation\""
      ]
    },
    {
      "cell_type": "code",
      "execution_count": 1,
      "metadata": {
        "id": "xf2ibsA3vnq9"
      },
      "outputs": [],
      "source": [
        "import numpy as np\n",
        "import scipy.stats as st"
      ]
    },
    {
      "cell_type": "markdown",
      "metadata": {
        "id": "tiLxfW-xvnq-"
      },
      "source": [
        "#### Answer the following questions by providing Python code:"
      ]
    },
    {
      "cell_type": "markdown",
      "metadata": {
        "id": "9UOnuEhvvnq-"
      },
      "source": [
        "Calculate the 95% and 99% conficence intervals for the Pearson correlation. <br>\n",
        "Discuss whether the confidence interval includes zero or not."
      ]
    },
    {
      "cell_type": "markdown",
      "metadata": {
        "id": "d37Xiv79vnq_"
      },
      "source": [
        "1). When the sample size $n = 30$ and the sample correlation $r = 0.45$:"
      ]
    },
    {
      "cell_type": "code",
      "execution_count": 3,
      "metadata": {
        "id": "XvveBBhivnq_"
      },
      "outputs": [],
      "source": [
        "n=30\n",
        "r=0.45\n",
        "z=np.arctanh(r)\n",
        "std_error_z=1/np.sqrt(n-3)"
      ]
    },
    {
      "cell_type": "code",
      "execution_count": 4,
      "metadata": {
        "id": "0zzycdWbvnrA",
        "outputId": "cd604052-51ec-4de3-e52b-0740091b62c3",
        "colab": {
          "base_uri": "https://localhost:8080/"
        }
      },
      "outputs": [
        {
          "output_type": "execute_result",
          "data": {
            "text/plain": [
              "{'high': 0.6972330057657297, 'low': 0.10709278247377604}"
            ]
          },
          "metadata": {},
          "execution_count": 4
        }
      ],
      "source": [
        "# 95% confidence interval. \n",
        "{'low':np.tanh(z-st.norm.ppf(0.975)*std_error_z), 'high': np.tanh(z+st.norm.ppf(0.975)*std_error_z)}"
      ]
    },
    {
      "cell_type": "code",
      "execution_count": 5,
      "metadata": {
        "id": "Fue-llu3vnrA",
        "outputId": "2dd4c964-00e6-4a03-843d-02d3938d8ef8",
        "colab": {
          "base_uri": "https://localhost:8080/"
        }
      },
      "outputs": [
        {
          "output_type": "execute_result",
          "data": {
            "text/plain": [
              "{'high': 0.7532471683684436, 'low': -0.011017856139532253}"
            ]
          },
          "metadata": {},
          "execution_count": 5
        }
      ],
      "source": [
        "# 99% confidence interval. \n",
        "{'low':np.tanh(z-st.norm.ppf(0.995)*std_error_z), 'high': np.tanh(z+st.norm.ppf(0.995)*std_error_z)}"
      ]
    },
    {
      "cell_type": "markdown",
      "metadata": {
        "id": "BirHNC-7vnrB"
      },
      "source": [
        "2). When the sample size $n = 300$ and the sample correlation $r = -0.2$:"
      ]
    },
    {
      "cell_type": "code",
      "execution_count": 6,
      "metadata": {
        "id": "Xb1MEv3OvnrC"
      },
      "outputs": [],
      "source": [
        "n=300\n",
        "r=-0.2\n",
        "z=np.arctanh(r)\n",
        "std_error_z=1/np.sqrt(n-3)"
      ]
    },
    {
      "cell_type": "code",
      "execution_count": 7,
      "metadata": {
        "id": "kpOq8bnEvnrC",
        "outputId": "9c22dbad-a282-4601-a5f1-79a97f4bd336",
        "colab": {
          "base_uri": "https://localhost:8080/"
        }
      },
      "outputs": [
        {
          "output_type": "execute_result",
          "data": {
            "text/plain": [
              "{'high': -0.08876963035471497, 'low': -0.3063036232659099}"
            ]
          },
          "metadata": {},
          "execution_count": 7
        }
      ],
      "source": [
        "# 95% confidence interval. \n",
        "{'low':np.tanh(z-st.norm.ppf(0.975)*std_error_z), 'high': np.tanh(z+st.norm.ppf(0.975)*std_error_z)}"
      ]
    },
    {
      "cell_type": "code",
      "execution_count": 8,
      "metadata": {
        "id": "rHs-212QvnrC",
        "outputId": "1f921967-2083-4832-fbf7-1b7f1b384ab7",
        "colab": {
          "base_uri": "https://localhost:8080/"
        }
      },
      "outputs": [
        {
          "output_type": "execute_result",
          "data": {
            "text/plain": [
              "{'high': -0.05321745374020949, 'low': -0.3383228071595094}"
            ]
          },
          "metadata": {},
          "execution_count": 8
        }
      ],
      "source": [
        "# 99% confidence interval. \n",
        "{'low':np.tanh(z-st.norm.ppf(0.995)*std_error_z), 'high': np.tanh(z+st.norm.ppf(0.995)*std_error_z)}"
      ]
    },
    {
      "cell_type": "code",
      "execution_count": null,
      "metadata": {
        "id": "tbOvO_AJvnrD"
      },
      "outputs": [],
      "source": [
        ""
      ]
    }
  ],
  "metadata": {
    "kernelspec": {
      "display_name": "Python 3",
      "language": "python",
      "name": "python3"
    },
    "language_info": {
      "codemirror_mode": {
        "name": "ipython",
        "version": 3
      },
      "file_extension": ".py",
      "mimetype": "text/x-python",
      "name": "python",
      "nbconvert_exporter": "python",
      "pygments_lexer": "ipython3",
      "version": "3.7.3"
    },
    "colab": {
      "name": "problem_0305.ipynb",
      "provenance": [],
      "include_colab_link": true
    }
  },
  "nbformat": 4,
  "nbformat_minor": 0
}