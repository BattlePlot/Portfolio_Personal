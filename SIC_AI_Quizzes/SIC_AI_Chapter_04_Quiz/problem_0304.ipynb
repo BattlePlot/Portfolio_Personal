{
  "cells": [
    {
      "cell_type": "markdown",
      "metadata": {
        "id": "view-in-github",
        "colab_type": "text"
      },
      "source": [
        "<a href=\"https://colab.research.google.com/github/BattlePlot/Portfolio_Personal/blob/main/SIC_AI_Quizzes/SIC_AI_Chapter_04_Quiz/problem_0304.ipynb\" target=\"_parent\"><img src=\"https://colab.research.google.com/assets/colab-badge.svg\" alt=\"Open In Colab\"/></a>"
      ]
    },
    {
      "cell_type": "markdown",
      "metadata": {
        "id": "_Ap7Bg1Ko-QC"
      },
      "source": [
        "## Coding Problem #0304"
      ]
    },
    {
      "cell_type": "markdown",
      "metadata": {
        "id": "q1hgrhqLo-QF"
      },
      "source": [
        "### \"Policy support rate\""
      ]
    },
    {
      "cell_type": "code",
      "execution_count": 1,
      "metadata": {
        "id": "r1QksswHo-QG"
      },
      "outputs": [],
      "source": [
        "import numpy as np\n",
        "import scipy.stats as st"
      ]
    },
    {
      "cell_type": "markdown",
      "metadata": {
        "id": "6uiMcyg5o-QH"
      },
      "source": [
        "#### Answer the following questions by providing Python code:"
      ]
    },
    {
      "cell_type": "markdown",
      "metadata": {
        "id": "dLdlKEqUo-QI"
      },
      "source": [
        "It is known that the overall policy support rate is 52%. <br>"
      ]
    },
    {
      "cell_type": "code",
      "execution_count": 2,
      "metadata": {
        "id": "Fq4sqVcYo-QI"
      },
      "outputs": [],
      "source": [
        "p = 0.52"
      ]
    },
    {
      "cell_type": "markdown",
      "metadata": {
        "id": "BzE2s3sJo-QJ"
      },
      "source": [
        "1). What is the probability of support rate less than 50% when asked to 100 people? <br>\n",
        "HINT: Use sample proportion and Standard Normal distribution."
      ]
    },
    {
      "cell_type": "code",
      "execution_count": 6,
      "metadata": {
        "id": "ZJB2zH8Go-QJ",
        "outputId": "fe20c172-7f64-457f-a20f-7bf672df2e86",
        "colab": {
          "base_uri": "https://localhost:8080/"
        }
      },
      "outputs": [
        {
          "output_type": "stream",
          "name": "stdout",
          "text": [
            "34.44602779022302%\n"
          ]
        }
      ],
      "source": [
        "n=100\n",
        "\n",
        "SE=np.sqrt(p*(1-p)/n)\n",
        "result=st.norm.cdf(0.5, loc=0.52, scale=SE)\n",
        "print(str(result*100)+\"%\")"
      ]
    },
    {
      "cell_type": "markdown",
      "metadata": {
        "id": "1XW_iU94o-QK"
      },
      "source": [
        "2). What is the probability of support rate less than 50% when asked to 300 people? <br>\n",
        "HINT: Use sample proportion and Standard Normal distribution."
      ]
    },
    {
      "cell_type": "code",
      "execution_count": 7,
      "metadata": {
        "id": "wJ1j5cUNo-QK",
        "outputId": "3e0aed23-78e1-42d7-aafa-71c91b81c611",
        "colab": {
          "base_uri": "https://localhost:8080/"
        }
      },
      "outputs": [
        {
          "output_type": "stream",
          "name": "stdout",
          "text": [
            "24.403704658262388%\n"
          ]
        }
      ],
      "source": [
        "n=300\n",
        "\n",
        "SE=np.sqrt(p*(1-p)/n)\n",
        "result=st.norm.cdf(0.5, loc=0.52, scale=SE)\n",
        "print(str(result*100)+\"%\")"
      ]
    },
    {
      "cell_type": "markdown",
      "metadata": {
        "id": "3cU28TEoo-QL"
      },
      "source": [
        "3). Redo the calculations of 1) and 2) using the Binomial distribution. Then, compare."
      ]
    },
    {
      "cell_type": "code",
      "execution_count": 26,
      "metadata": {
        "id": "cLxcFQano-QL",
        "outputId": "895c24b0-2177-4daa-b90d-82e425a1252e",
        "colab": {
          "base_uri": "https://localhost:8080/"
        }
      },
      "outputs": [
        {
          "output_type": "stream",
          "name": "stdout",
          "text": [
            "38.16199474102779%\n"
          ]
        }
      ],
      "source": [
        "# Redo of 1).\n",
        "n=100\n",
        "\n",
        "result=st.binom.cdf(0.5*n,n,p)\n",
        "print(str(result*100)+\"%\")"
      ]
    },
    {
      "cell_type": "code",
      "execution_count": 27,
      "metadata": {
        "id": "P9-aGFhTo-QM",
        "outputId": "a22d61ce-133b-4e67-d693-1fb5d4597029",
        "colab": {
          "base_uri": "https://localhost:8080/"
        }
      },
      "outputs": [
        {
          "output_type": "stream",
          "name": "stdout",
          "text": [
            "26.24050639758823%\n"
          ]
        }
      ],
      "source": [
        "# Redo of 2).\n",
        "n=300\n",
        "\n",
        "result=st.binom.cdf(0.5*n,n,p)\n",
        "print(str(result*100)+\"%\")"
      ]
    },
    {
      "cell_type": "markdown",
      "metadata": {
        "id": "lvCaukfmo-QM"
      },
      "source": [
        "4). Redo the calculations of 1) and 2) using the Poisson distribution. Then, compare."
      ]
    },
    {
      "cell_type": "code",
      "execution_count": 25,
      "metadata": {
        "id": "J6Zrz9Zuo-QN",
        "outputId": "65a93384-929b-4489-b749-601d85b520ae",
        "colab": {
          "base_uri": "https://localhost:8080/"
        }
      },
      "outputs": [
        {
          "output_type": "stream",
          "name": "stdout",
          "text": [
            "42.63222479818158%\n"
          ]
        }
      ],
      "source": [
        "# Redo of 1).\n",
        "n=100\n",
        "lamb=n*p\n",
        "\n",
        "result=st.poisson.cdf(0.5*n,lamb)\n",
        "print(str(result*100)+\"%\")"
      ]
    },
    {
      "cell_type": "code",
      "execution_count": 23,
      "metadata": {
        "id": "qTXA5pjko-QN",
        "outputId": "85e01819-76b8-4c98-dc59-d6d687fd204b",
        "colab": {
          "base_uri": "https://localhost:8080/"
        }
      },
      "outputs": [
        {
          "output_type": "stream",
          "name": "stdout",
          "text": [
            "33.376351627852586%\n"
          ]
        }
      ],
      "source": [
        "# Redo of 2).\n",
        "n=300\n",
        "lamb=p\n",
        "\n",
        "result=st.poisson.cdf(0.5,lamb)\n",
        "print(str(result*100)+\"%\")"
      ]
    },
    {
      "cell_type": "code",
      "execution_count": null,
      "metadata": {
        "id": "mlK17OLno-QN"
      },
      "outputs": [],
      "source": [
        ""
      ]
    }
  ],
  "metadata": {
    "kernelspec": {
      "display_name": "Python 3",
      "language": "python",
      "name": "python3"
    },
    "language_info": {
      "codemirror_mode": {
        "name": "ipython",
        "version": 3
      },
      "file_extension": ".py",
      "mimetype": "text/x-python",
      "name": "python",
      "nbconvert_exporter": "python",
      "pygments_lexer": "ipython3",
      "version": "3.7.3"
    },
    "colab": {
      "name": "problem_0304.ipynb",
      "provenance": [],
      "include_colab_link": true
    }
  },
  "nbformat": 4,
  "nbformat_minor": 0
}