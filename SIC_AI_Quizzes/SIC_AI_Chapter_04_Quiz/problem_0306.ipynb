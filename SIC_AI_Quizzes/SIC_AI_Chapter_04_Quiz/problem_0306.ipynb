{
  "cells": [
    {
      "cell_type": "markdown",
      "metadata": {
        "id": "view-in-github",
        "colab_type": "text"
      },
      "source": [
        "<a href=\"https://colab.research.google.com/github/BattlePlot/Portfolio_Personal/blob/main/SIC_AI_Quizzes/SIC_AI_Chapter_04_Quiz/problem_0306.ipynb\" target=\"_parent\"><img src=\"https://colab.research.google.com/assets/colab-badge.svg\" alt=\"Open In Colab\"/></a>"
      ]
    },
    {
      "cell_type": "markdown",
      "metadata": {
        "id": "yWXrREmLxlvr"
      },
      "source": [
        "## Quiz #0306"
      ]
    },
    {
      "cell_type": "markdown",
      "metadata": {
        "id": "5p2aLXNSxlvv"
      },
      "source": [
        "### \"F test of variance ratio\""
      ]
    },
    {
      "cell_type": "code",
      "execution_count": 1,
      "metadata": {
        "id": "N_iPv1uoxlvw"
      },
      "outputs": [],
      "source": [
        "import numpy as np\n",
        "import scipy.stats as st"
      ]
    },
    {
      "cell_type": "markdown",
      "metadata": {
        "id": "SMhRASM9xlvx"
      },
      "source": [
        "#### Answer the following questions by providing Python code:"
      ]
    },
    {
      "cell_type": "markdown",
      "metadata": {
        "id": "UL9BgcUjxlvx"
      },
      "source": [
        "In a factory there are two packaging machines. Output samples are drawn from each machine. <br>\n",
        "- $n_1=15$, $\\bar{x}_1=5.0592 kg$, $s_1^2=0.1130 kg^2$\n",
        "- $n_2=12$, $\\bar{x}_2=4.9808 kg$, $s_2^2=0.0152 kg^2$  \n",
        "\n",
        "Test whether there is a significant difference in the variances (95%)."
      ]
    },
    {
      "cell_type": "code",
      "execution_count": 11,
      "metadata": {
        "id": "ZFvEayysxlvy"
      },
      "outputs": [],
      "source": [
        "n1 = 15\n",
        "ssq1 = 0.1130\n",
        "n2 = 12\n",
        "ssq2 = 0.0152"
      ]
    },
    {
      "cell_type": "markdown",
      "metadata": {
        "id": "csCC6_jDxlvy"
      },
      "source": [
        "1). Do the right tail test:"
      ]
    },
    {
      "cell_type": "code",
      "execution_count": 7,
      "metadata": {
        "id": "D7s9QqM4xlvz",
        "outputId": "dfcef8f9-a7cb-4014-d47d-2eb8337bcd35",
        "colab": {
          "base_uri": "https://localhost:8080/"
        }
      },
      "outputs": [
        {
          "output_type": "execute_result",
          "data": {
            "text/plain": [
              "7.434210526315789"
            ]
          },
          "metadata": {},
          "execution_count": 7
        }
      ],
      "source": [
        "F0=ssq1/ssq2\n",
        "F0"
      ]
    },
    {
      "cell_type": "code",
      "execution_count": 13,
      "metadata": {
        "id": "4VLDTukMxlvz",
        "outputId": "4a42792c-e425-4efa-9c43-22a48ecfdf0a",
        "colab": {
          "base_uri": "https://localhost:8080/"
        }
      },
      "outputs": [
        {
          "output_type": "execute_result",
          "data": {
            "text/plain": [
              "0.0009847696603404454"
            ]
          },
          "metadata": {},
          "execution_count": 13
        }
      ],
      "source": [
        "p_value=1-st.f.cdf(F0,n1-1,n2-1)\n",
        "p_value"
      ]
    },
    {
      "cell_type": "markdown",
      "metadata": {
        "id": "X37Z6Kcsxlv0"
      },
      "source": [
        "2). Do the two tail test:"
      ]
    },
    {
      "cell_type": "code",
      "execution_count": 9,
      "metadata": {
        "id": "ig6mngl_xlv0",
        "outputId": "178fdf01-b3f6-4cb5-e3ff-7a12476c61c6",
        "colab": {
          "base_uri": "https://localhost:8080/"
        }
      },
      "outputs": [
        {
          "output_type": "execute_result",
          "data": {
            "text/plain": [
              "0.001969539320680891"
            ]
          },
          "metadata": {},
          "execution_count": 9
        }
      ],
      "source": [
        "p_value=2*(1-st.f.cdf(F0,n1-1,n2-1))\n",
        "p_value"
      ]
    },
    {
      "cell_type": "markdown",
      "metadata": {
        "id": "7hK5kjzlxlv1"
      },
      "source": [
        "3). Briefly discuss the results:"
      ]
    },
    {
      "cell_type": "code",
      "execution_count": 10,
      "metadata": {
        "id": "yoN0YwkHxlv1",
        "outputId": "aa1437f9-ac46-46b1-ea38-7c5178941200",
        "colab": {
          "base_uri": "https://localhost:8080/"
        }
      },
      "outputs": [
        {
          "output_type": "stream",
          "name": "stdout",
          "text": [
            "Since F0 is greater then the p_value we reject the null hypothesis that the variances are equal\n"
          ]
        }
      ],
      "source": [
        "print(\"Since F0 is greater then the p_value we reject the null hypothesis that the variances are equal\")"
      ]
    }
  ],
  "metadata": {
    "kernelspec": {
      "display_name": "Python 3",
      "language": "python",
      "name": "python3"
    },
    "language_info": {
      "codemirror_mode": {
        "name": "ipython",
        "version": 3
      },
      "file_extension": ".py",
      "mimetype": "text/x-python",
      "name": "python",
      "nbconvert_exporter": "python",
      "pygments_lexer": "ipython3",
      "version": "3.7.3"
    },
    "colab": {
      "name": "problem_0306.ipynb",
      "provenance": [],
      "include_colab_link": true
    }
  },
  "nbformat": 4,
  "nbformat_minor": 0
}