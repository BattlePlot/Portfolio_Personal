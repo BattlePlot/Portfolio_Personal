{
  "cells": [
    {
      "cell_type": "markdown",
      "metadata": {
        "id": "view-in-github",
        "colab_type": "text"
      },
      "source": [
        "<a href=\"https://colab.research.google.com/github/BattlePlot/Portfolio_Personal/blob/main/SIC_AI_Quizzes/SIC_AI_Chapter_04_Quiz/problem_0301.ipynb\" target=\"_parent\"><img src=\"https://colab.research.google.com/assets/colab-badge.svg\" alt=\"Open In Colab\"/></a>"
      ]
    },
    {
      "cell_type": "markdown",
      "metadata": {
        "id": "NVGi-_olkGjF"
      },
      "source": [
        "## Quiz #0301"
      ]
    },
    {
      "cell_type": "markdown",
      "metadata": {
        "id": "vqk6rNN6kGjJ"
      },
      "source": [
        "### \"Sample size\""
      ]
    },
    {
      "cell_type": "code",
      "execution_count": 1,
      "metadata": {
        "id": "EyoEQdjnkGjJ"
      },
      "outputs": [],
      "source": [
        "import numpy as np\n",
        "import scipy.stats as st"
      ]
    },
    {
      "cell_type": "markdown",
      "metadata": {
        "id": "0TsOAmOSkGjL"
      },
      "source": [
        "#### Answer the following questions by providing Python code:"
      ]
    },
    {
      "cell_type": "markdown",
      "metadata": {
        "id": "8pbCzL_mkGjL"
      },
      "source": [
        "The female students are known to have mean weight $\\mu=58$kg with  $\\sigma=3$kg. <br>\n",
        "Calculate the *minimum* sample size in each of the following cases."
      ]
    },
    {
      "cell_type": "code",
      "execution_count": 2,
      "metadata": {
        "id": "lPkF0Xp7kGjM"
      },
      "outputs": [],
      "source": [
        "mu = 58.0\n",
        "sigma = 3.0"
      ]
    },
    {
      "cell_type": "markdown",
      "metadata": {
        "id": "SX0rD_rykGjM"
      },
      "source": [
        "1). When we target the standard error less than 1kg:"
      ]
    },
    {
      "cell_type": "code",
      "execution_count": 4,
      "metadata": {
        "id": "HMimwPt_kGjN",
        "outputId": "cfe04e69-0f21-4285-e2b3-d55f69828f02",
        "colab": {
          "base_uri": "https://localhost:8080/"
        }
      },
      "outputs": [
        {
          "output_type": "stream",
          "name": "stdout",
          "text": [
            "The minimum sample size must be greater than: 9.0\n",
            "1.0\n"
          ]
        }
      ],
      "source": [
        "error=1\n",
        "\n",
        "n=np.ceil((sigma/error)**2)\n",
        "\n",
        "print(\"The minimum sample size must be greater than: \" + str(n))\n",
        "print(sigma/np.sqrt(n))"
      ]
    },
    {
      "cell_type": "markdown",
      "metadata": {
        "id": "GiIuT7XskGjO"
      },
      "source": [
        "2). When we want the full width of the 95% confidence interval to be less than 2kg: <br>\n",
        "NOTE: Use the Standard Normal distribution."
      ]
    },
    {
      "cell_type": "code",
      "execution_count": 5,
      "metadata": {
        "id": "j9RHvw3wkGjO",
        "outputId": "7efaff30-7cf6-45bd-c101-6f31c27eca97",
        "colab": {
          "base_uri": "https://localhost:8080/"
        }
      },
      "outputs": [
        {
          "output_type": "stream",
          "name": "stdout",
          "text": [
            "The minimum sample size must be greater than: 35.0\n",
            "The lower bound would be: 57.006098596439266\n",
            "The upper bound would be: 58.993901403560734\n"
          ]
        }
      ],
      "source": [
        "n=np.ceil((3.92*sigma/2)**2)\n",
        "\n",
        "print(\"The minimum sample size must be greater than: \" + str(n))\n",
        "print(\"The lower bound would be: \" + str(58-1.96*sigma/np.sqrt(n)))\n",
        "print(\"The upper bound would be: \" + str(58+1.96*sigma/np.sqrt(n)))"
      ]
    },
    {
      "cell_type": "markdown",
      "metadata": {
        "id": "fwtWrWTGkGjP"
      },
      "source": [
        "3). When we want the full width of the 95% confidence interval to be less than 2kg: <br>\n",
        "NOTE: Use the Student-t distribution. <br>\n",
        "HINT: As the Student-t distribution depends on $n$, it is not as straightforward as in the Stadard Normal case."
      ]
    },
    {
      "cell_type": "code",
      "execution_count": 6,
      "metadata": {
        "id": "HCE7QmmfkGjP",
        "outputId": "fb4edcea-75fa-4278-cc6a-6a8b4d1c277f",
        "colab": {
          "base_uri": "https://localhost:8080/"
        }
      },
      "outputs": [
        {
          "output_type": "stream",
          "name": "stdout",
          "text": [
            "1.9721509250221345\n",
            "38\n"
          ]
        }
      ],
      "source": [
        "dif=3\n",
        "n=3\n",
        "\n",
        "while dif>2:\n",
        "  n+=1\n",
        "  lb,up=st.t.interval(0.95, df = n-1, loc = mu, scale = sigma/np.sqrt(n) )\n",
        "  dif=up-lb\n",
        "\n",
        "print(dif)\n",
        "print(n)"
      ]
    },
    {
      "cell_type": "code",
      "execution_count": null,
      "metadata": {
        "id": "usegPV7ukGjP"
      },
      "outputs": [],
      "source": [
        ""
      ]
    }
  ],
  "metadata": {
    "kernelspec": {
      "display_name": "Python 3",
      "language": "python",
      "name": "python3"
    },
    "language_info": {
      "codemirror_mode": {
        "name": "ipython",
        "version": 3
      },
      "file_extension": ".py",
      "mimetype": "text/x-python",
      "name": "python",
      "nbconvert_exporter": "python",
      "pygments_lexer": "ipython3",
      "version": "3.7.3"
    },
    "colab": {
      "name": "problem_0301.ipynb",
      "provenance": [],
      "include_colab_link": true
    }
  },
  "nbformat": 4,
  "nbformat_minor": 0
}