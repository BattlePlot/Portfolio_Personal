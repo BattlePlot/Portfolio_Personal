{
  "cells": [
    {
      "cell_type": "markdown",
      "metadata": {
        "id": "PSKH6vwAJfBk"
      },
      "source": [
        "## Quiz #0301"
      ]
    },
    {
      "cell_type": "markdown",
      "metadata": {
        "id": "tQZOwCLhJfBp"
      },
      "source": [
        "### \"Sample size\""
      ]
    },
    {
      "cell_type": "code",
      "execution_count": 1,
      "metadata": {
        "id": "P5gLRm_oJfBq"
      },
      "outputs": [],
      "source": [
        "import numpy as np\n",
        "import scipy.stats as st"
      ]
    },
    {
      "cell_type": "markdown",
      "metadata": {
        "id": "KhC5bGZaJfBr"
      },
      "source": [
        "#### Answer the following questions by providing Python code:"
      ]
    },
    {
      "cell_type": "markdown",
      "metadata": {
        "id": "tldHTN4rJfBs"
      },
      "source": [
        "The female students are known to have mean weight $\\mu=58$kg with  $\\sigma=3$kg. <br>\n",
        "Calculate the *minimum* sample size in each of the following cases."
      ]
    },
    {
      "cell_type": "code",
      "execution_count": 2,
      "metadata": {
        "id": "hOqxcGSWJfBs"
      },
      "outputs": [],
      "source": [
        "mu = 58.0\n",
        "sigma = 3.0"
      ]
    },
    {
      "cell_type": "markdown",
      "metadata": {
        "id": "17UXeh5JJfBs"
      },
      "source": [
        "1). When we target the standard error less than 1kg:"
      ]
    },
    {
      "cell_type": "code",
      "execution_count": 15,
      "metadata": {
        "id": "ZMJfq6-LJfBt",
        "outputId": "54750a7a-4718-4277-911c-8cd91dc3e3e2",
        "colab": {
          "base_uri": "https://localhost:8080/"
        }
      },
      "outputs": [
        {
          "output_type": "stream",
          "name": "stdout",
          "text": [
            "The minimum sample size must be greater than: 9.0\n",
            "1.0\n"
          ]
        }
      ],
      "source": [
        "error=1\n",
        "\n",
        "n=(sigma/error)**2\n",
        "\n",
        "print(\"The minimum sample size must be greater than: \" + str(n))\n",
        "print(sigma/np.sqrt(n))"
      ]
    },
    {
      "cell_type": "markdown",
      "metadata": {
        "id": "A-7rSClpJfBu"
      },
      "source": [
        "2). When we want the full width of the 95% confidence interval to be less than 2kg: <br>\n",
        "NOTE: Use the Standard Normal distribution."
      ]
    },
    {
      "cell_type": "code",
      "execution_count": 18,
      "metadata": {
        "id": "ekXtuGM_JfBu",
        "outputId": "a4f65457-287a-4a7c-ebef-4f68a35f27a4",
        "colab": {
          "base_uri": "https://localhost:8080/"
        }
      },
      "outputs": [
        {
          "output_type": "stream",
          "name": "stdout",
          "text": [
            "The minimum sample size must be greater than: 34.5744\n",
            "The lower bound would be: 57.0\n",
            "The upper bound would be: 59.0\n"
          ]
        }
      ],
      "source": [
        "n=(3.92*sigma/2)**2\n",
        "\n",
        "print(\"The minimum sample size must be greater than: \" + str(n))\n",
        "print(\"The lower bound would be: \" + str(58-1.96*sigma/np.sqrt(n)))\n",
        "print(\"The upper bound would be: \" + str(58+1.96*sigma/np.sqrt(n)))"
      ]
    },
    {
      "cell_type": "markdown",
      "metadata": {
        "id": "aQpTGEpPJfBv"
      },
      "source": [
        "3). When we want the full width of the 95% confidence interval to be less than 2kg: <br>\n",
        "NOTE: Use the Student-t distribution. <br>\n",
        "HINT: As the Student-t distribution depends on $n$, it is not as straightforward as in the Stadard Normal case."
      ]
    },
    {
      "cell_type": "code",
      "execution_count": 41,
      "metadata": {
        "id": "mbGUc4ipJfBv",
        "outputId": "e83db7d2-5e31-4f9f-9d8e-9c2750033f92",
        "colab": {
          "base_uri": "https://localhost:8080/"
        }
      },
      "outputs": [
        {
          "output_type": "stream",
          "name": "stdout",
          "text": [
            "1.9721509250221345\n",
            "38\n"
          ]
        }
      ],
      "source": [
        "dif=3\n",
        "n=3\n",
        "\n",
        "while dif>2:\n",
        "  n+=1\n",
        "  lb,up=st.t.interval(0.95, df = n-1, loc = mu, scale = sigma/np.sqrt(n) )\n",
        "  dif=up-lb\n",
        "\n",
        "print(dif)\n",
        "print(n)"
      ]
    },
    {
      "cell_type": "code",
      "execution_count": null,
      "metadata": {
        "id": "KKrRL3aQJfBw"
      },
      "outputs": [],
      "source": [
        ""
      ]
    }
  ],
  "metadata": {
    "kernelspec": {
      "display_name": "Python 3",
      "language": "python",
      "name": "python3"
    },
    "language_info": {
      "codemirror_mode": {
        "name": "ipython",
        "version": 3
      },
      "file_extension": ".py",
      "mimetype": "text/x-python",
      "name": "python",
      "nbconvert_exporter": "python",
      "pygments_lexer": "ipython3",
      "version": "3.7.3"
    },
    "colab": {
      "name": "problem_0301.ipynb",
      "provenance": []
    }
  },
  "nbformat": 4,
  "nbformat_minor": 0
}