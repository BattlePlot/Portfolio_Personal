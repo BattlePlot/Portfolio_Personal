{
  "cells": [
    {
      "cell_type": "markdown",
      "metadata": {
        "id": "nwoI-l3Eourk"
      },
      "source": [
        "## Quiz #0303"
      ]
    },
    {
      "cell_type": "markdown",
      "metadata": {
        "id": "sy1Jp5oCouro"
      },
      "source": [
        "### \"Ball bearing quality control\""
      ]
    },
    {
      "cell_type": "code",
      "execution_count": 1,
      "metadata": {
        "id": "-TUtjylAourp"
      },
      "outputs": [],
      "source": [
        "import numpy as np\n",
        "import scipy.stats as st"
      ]
    },
    {
      "cell_type": "markdown",
      "metadata": {
        "id": "pkUAgABkourq"
      },
      "source": [
        "#### Answer the following questions by providing Python code:"
      ]
    },
    {
      "cell_type": "markdown",
      "metadata": {
        "id": "-qD71wAGourr"
      },
      "source": [
        "It is known that 3% of the ball bearings from a production line are defective. <br>\n",
        "Suppose that a sample of 500 ball bearings is drawn."
      ]
    },
    {
      "cell_type": "code",
      "execution_count": 2,
      "metadata": {
        "id": "AgTdiwzCourr"
      },
      "outputs": [],
      "source": [
        "p = 0.03\n",
        "n = 500"
      ]
    },
    {
      "cell_type": "code",
      "execution_count": 3,
      "metadata": {
        "id": "MrUDpMyFours",
        "outputId": "67581433-6742-45c1-a850-73e8c1ff59be",
        "colab": {
          "base_uri": "https://localhost:8080/"
        }
      },
      "outputs": [
        {
          "output_type": "stream",
          "name": "stdout",
          "text": [
            "15.0\n",
            "485.0\n"
          ]
        }
      ],
      "source": [
        "print(n*p)                               # Check wheather this is larger than 10. => OK\n",
        "print(n*(1-p))                           # Check wheather this is larger than 10. => OK"
      ]
    },
    {
      "cell_type": "markdown",
      "metadata": {
        "id": "-ae_nHP1ours"
      },
      "source": [
        "1). What is the probability that the sample defect rate is larger than 5%? <br>\n",
        "HINT: Use sample proportion and Standard Normal distribution."
      ]
    },
    {
      "cell_type": "code",
      "execution_count": 4,
      "metadata": {
        "id": "PfY2dRU7ourt"
      },
      "outputs": [],
      "source": [
        "SE=np.sqrt(p*(1-p)/n)"
      ]
    },
    {
      "cell_type": "code",
      "execution_count": 35,
      "metadata": {
        "id": "1f7X_Owvourt",
        "outputId": "1a55090a-d377-4c8c-eb14-bc8801189c8e",
        "colab": {
          "base_uri": "https://localhost:8080/"
        }
      },
      "outputs": [
        {
          "output_type": "stream",
          "name": "stdout",
          "text": [
            "The probability is: 0.4375743328279169%\n"
          ]
        }
      ],
      "source": [
        "result=1-st.norm.cdf((0.05-p)/SE,loc=0,scale=1)\n",
        "print(\"The probability is: \"+str(result*100) + \"%\")"
      ]
    },
    {
      "cell_type": "markdown",
      "metadata": {
        "id": "BM8RrjUeouru"
      },
      "source": [
        "2). What is the probability that the sample defect rate is less than 2%? <br>\n",
        "HINT: Use sample proportion and Standard Normal distribution."
      ]
    },
    {
      "cell_type": "code",
      "execution_count": 13,
      "metadata": {
        "id": "VWAADAgvouru",
        "outputId": "e80f0e93-9fb6-4108-efc1-0d54606f7f0c",
        "colab": {
          "base_uri": "https://localhost:8080/"
        }
      },
      "outputs": [
        {
          "output_type": "stream",
          "name": "stdout",
          "text": [
            "The probability is: 9.496161307581886%\n"
          ]
        }
      ],
      "source": [
        "result=st.norm.cdf((0.02-p)/SE,loc=0,scale=1)\n",
        "print(\"The probability is: \"+str(result*100) + \"%\")"
      ]
    },
    {
      "cell_type": "markdown",
      "metadata": {
        "id": "5FwegfL1ourv"
      },
      "source": [
        "3). Redo the calculations of 1) and 2) using the Binomial distribution. Then, compare."
      ]
    },
    {
      "cell_type": "code",
      "execution_count": 28,
      "metadata": {
        "id": "DyV_ISILourv",
        "outputId": "90b70188-f89d-4e80-c03d-860f1a06f217",
        "colab": {
          "base_uri": "https://localhost:8080/"
        }
      },
      "outputs": [
        {
          "output_type": "stream",
          "name": "stdout",
          "text": [
            "The probability is: 0.5456997386145246%\n"
          ]
        }
      ],
      "source": [
        "# Redo of 1).\n",
        "result=1-st.binom.cdf(0.05*n,n,p)\n",
        "print(\"The probability is: \"+str(result*100) + \"%\")"
      ]
    },
    {
      "cell_type": "code",
      "execution_count": 27,
      "metadata": {
        "id": "yA-b_APHourw",
        "outputId": "05a47108-4527-41ad-aab7-b9d1f72b4b17",
        "colab": {
          "base_uri": "https://localhost:8080/"
        }
      },
      "outputs": [
        {
          "output_type": "stream",
          "name": "stdout",
          "text": [
            "The probability is: 11.47874842038521%\n"
          ]
        }
      ],
      "source": [
        "# Redo of 2).\n",
        "result=st.binom.cdf(0.02*n,n,p)\n",
        "print(\"The probability is: \"+str(result*100) + \"%\")"
      ]
    },
    {
      "cell_type": "code",
      "execution_count": 28,
      "metadata": {
        "id": "YV1vmAM8ourw"
      },
      "outputs": [],
      "source": [
        ""
      ]
    }
  ],
  "metadata": {
    "kernelspec": {
      "display_name": "Python 3",
      "language": "python",
      "name": "python3"
    },
    "language_info": {
      "codemirror_mode": {
        "name": "ipython",
        "version": 3
      },
      "file_extension": ".py",
      "mimetype": "text/x-python",
      "name": "python",
      "nbconvert_exporter": "python",
      "pygments_lexer": "ipython3",
      "version": "3.7.3"
    },
    "colab": {
      "name": "problem_0303.ipynb",
      "provenance": []
    }
  },
  "nbformat": 4,
  "nbformat_minor": 0
}