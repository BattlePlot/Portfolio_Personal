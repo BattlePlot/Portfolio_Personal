{
  "cells": [
    {
      "cell_type": "markdown",
      "metadata": {
        "id": "view-in-github",
        "colab_type": "text"
      },
      "source": [
        "<a href=\"https://colab.research.google.com/github/BattlePlot/Portfolio_Personal/blob/main/SIC_AI_Quizzes/SIC_AI_Chapter_04_Quiz/problem_0303.ipynb\" target=\"_parent\"><img src=\"https://colab.research.google.com/assets/colab-badge.svg\" alt=\"Open In Colab\"/></a>"
      ]
    },
    {
      "cell_type": "markdown",
      "metadata": {
        "id": "nb5TvUQIeNgv"
      },
      "source": [
        "## Quiz #0303"
      ]
    },
    {
      "cell_type": "markdown",
      "metadata": {
        "id": "3FP8woSQeNg0"
      },
      "source": [
        "### \"Ball bearing quality control\""
      ]
    },
    {
      "cell_type": "code",
      "execution_count": 1,
      "metadata": {
        "id": "u63xJDi7eNg2"
      },
      "outputs": [],
      "source": [
        "import numpy as np\n",
        "import scipy.stats as st"
      ]
    },
    {
      "cell_type": "markdown",
      "metadata": {
        "id": "aKEkZCxfeNg3"
      },
      "source": [
        "#### Answer the following questions by providing Python code:"
      ]
    },
    {
      "cell_type": "markdown",
      "metadata": {
        "id": "fkwBtiIFeNg3"
      },
      "source": [
        "It is known that 3% of the ball bearings from a production line are defective. <br>\n",
        "Suppose that a sample of 500 ball bearings is drawn."
      ]
    },
    {
      "cell_type": "code",
      "execution_count": 2,
      "metadata": {
        "id": "EsdoGWoHeNg4"
      },
      "outputs": [],
      "source": [
        "p = 0.03\n",
        "n = 500"
      ]
    },
    {
      "cell_type": "code",
      "execution_count": 3,
      "metadata": {
        "id": "kO8zR5gIeNg4",
        "outputId": "8bbb61da-860b-4c9d-b643-2c978cc4d575",
        "colab": {
          "base_uri": "https://localhost:8080/"
        }
      },
      "outputs": [
        {
          "output_type": "stream",
          "name": "stdout",
          "text": [
            "15.0\n",
            "485.0\n"
          ]
        }
      ],
      "source": [
        "print(n*p)                               # Check wheather this is larger than 10. => OK\n",
        "print(n*(1-p))                           # Check wheather this is larger than 10. => OK"
      ]
    },
    {
      "cell_type": "markdown",
      "metadata": {
        "id": "NRVp58TVeNg5"
      },
      "source": [
        "1). What is the probability that the sample defect rate is larger than 5%? <br>\n",
        "HINT: Use sample proportion and Standard Normal distribution."
      ]
    },
    {
      "cell_type": "code",
      "execution_count": 4,
      "metadata": {
        "id": "GD1n4OUYeNg6"
      },
      "outputs": [],
      "source": [
        "SE=np.sqrt(p*(1-p)/n)"
      ]
    },
    {
      "cell_type": "code",
      "execution_count": 17,
      "metadata": {
        "id": "QxvJ_C_ueNg6",
        "outputId": "396f3161-3fde-4659-855f-fb887a7277e1",
        "colab": {
          "base_uri": "https://localhost:8080/"
        }
      },
      "outputs": [
        {
          "output_type": "stream",
          "name": "stdout",
          "text": [
            "The probability is: 0.4375743328279169%\n"
          ]
        }
      ],
      "source": [
        "result=1-st.norm.cdf(0.05,loc=p,scale=SE)\n",
        "print(\"The probability is: \"+str(result*100) + \"%\")"
      ]
    },
    {
      "cell_type": "markdown",
      "metadata": {
        "id": "v1EKoL1ZeNg7"
      },
      "source": [
        "2). What is the probability that the sample defect rate is less than 2%? <br>\n",
        "HINT: Use sample proportion and Standard Normal distribution."
      ]
    },
    {
      "cell_type": "code",
      "execution_count": 18,
      "metadata": {
        "id": "qMHkfyfYeNg7",
        "outputId": "7e6144f1-44a3-46a0-c383-82b76758e28f",
        "colab": {
          "base_uri": "https://localhost:8080/"
        }
      },
      "outputs": [
        {
          "output_type": "stream",
          "name": "stdout",
          "text": [
            "The probability is: 9.496161307581886%\n"
          ]
        }
      ],
      "source": [
        "result=st.norm.cdf(0.02,loc=p,scale=SE)\n",
        "print(\"The probability is: \"+str(result*100) + \"%\")"
      ]
    },
    {
      "cell_type": "markdown",
      "metadata": {
        "id": "F_h8SgLneNg7"
      },
      "source": [
        "3). Redo the calculations of 1) and 2) using the Binomial distribution. Then, compare."
      ]
    },
    {
      "cell_type": "code",
      "execution_count": 10,
      "metadata": {
        "id": "Z0xVyCqmeNg8",
        "outputId": "da337d5e-0650-427f-8fd9-0876d0b98261",
        "colab": {
          "base_uri": "https://localhost:8080/"
        }
      },
      "outputs": [
        {
          "output_type": "stream",
          "name": "stdout",
          "text": [
            "The probability is: 0.5456997386145246%\n"
          ]
        }
      ],
      "source": [
        "# Redo of 1).\n",
        "result=1-st.binom.cdf(0.05*n,n,p)\n",
        "print(\"The probability is: \"+str(result*100) + \"%\")"
      ]
    },
    {
      "cell_type": "code",
      "execution_count": 11,
      "metadata": {
        "id": "Ck7Yy6kReNg8",
        "outputId": "004c029c-9e8c-4c62-af22-5f80496fa599",
        "colab": {
          "base_uri": "https://localhost:8080/"
        }
      },
      "outputs": [
        {
          "output_type": "stream",
          "name": "stdout",
          "text": [
            "The probability is: 11.47874842038521%\n"
          ]
        }
      ],
      "source": [
        "# Redo of 2).\n",
        "result=st.binom.cdf(0.02*n,n,p)\n",
        "print(\"The probability is: \"+str(result*100) + \"%\")"
      ]
    },
    {
      "cell_type": "code",
      "execution_count": null,
      "metadata": {
        "id": "821bOL1eeNg9"
      },
      "outputs": [],
      "source": [
        ""
      ]
    }
  ],
  "metadata": {
    "kernelspec": {
      "display_name": "Python 3",
      "language": "python",
      "name": "python3"
    },
    "language_info": {
      "codemirror_mode": {
        "name": "ipython",
        "version": 3
      },
      "file_extension": ".py",
      "mimetype": "text/x-python",
      "name": "python",
      "nbconvert_exporter": "python",
      "pygments_lexer": "ipython3",
      "version": "3.7.3"
    },
    "colab": {
      "name": "problem_0303.ipynb",
      "provenance": [],
      "include_colab_link": true
    }
  },
  "nbformat": 4,
  "nbformat_minor": 0
}